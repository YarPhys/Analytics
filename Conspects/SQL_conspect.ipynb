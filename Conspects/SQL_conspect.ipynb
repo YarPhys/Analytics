{
  "nbformat": 4,
  "nbformat_minor": 0,
  "metadata": {
    "colab": {
      "provenance": []
    },
    "kernelspec": {
      "name": "python3",
      "display_name": "Python 3"
    },
    "language_info": {
      "name": "python"
    }
  },
  "cells": [
    {
      "cell_type": "markdown",
      "source": [
        "# **Конспект по SQL**"
      ],
      "metadata": {
        "id": "amn7RZuuANnf"
      }
    },
    {
      "cell_type": "code",
      "execution_count": 2,
      "metadata": {
        "id": "Kb3yr0y2_oAB"
      },
      "outputs": [],
      "source": [
        "%load_ext sql\n",
        "%sql sqlite://"
      ]
    },
    {
      "cell_type": "markdown",
      "source": [
        "# **Основные понятия для работы с SQL**"
      ],
      "metadata": {
        "id": "FFYMdFSDAz6o"
      }
    },
    {
      "cell_type": "markdown",
      "source": [
        "Мои обозначения:\n",
        "\n",
        "[ ] - опционально\n",
        "\n",
        "\n",
        "\n",
        "\n",
        "*********************************************************************************************************************\n",
        "\n",
        "Основные принципы реляционной БД:\n",
        "- Данные представляются в виде таблиц\n",
        "- В ячейку таблицы можно занести лишь одно значение\n",
        "(отношение - это кортеж данных, проще говоря таблица)\n",
        "- Все операции выполняются на полными таблицами (над целыми отношениями)\n",
        " и результатом этих операций является таблица (отношение)\n",
        "\n",
        "атрибут (поле) - столбец в таблице\n",
        "\n",
        "кортеж - строка в таблице\n",
        "\n",
        "таблица n*m, где n - мощность (число кортежей), m - размерность (число атрибутов)\n",
        "\n",
        "домен атрибута - допустимые значения, которые можно вписать в поле (в ячейку поля)\n",
        "\n",
        "имена таблицы (отношения) и поля могут содержать строчные латинские буквы (должно с них начинаться),\n",
        "цифры и знак подчёркивания\n",
        "\n",
        "Типы данных:\n",
        "\n",
        "\n",
        "*   INT (INTEGER) - по модулю примерно меньше чем 2 * 10**9\n",
        "*   DECIMAL(a, b) (или NUMERIC), где a - общее максимальное количество цифр b - максимальное число цифр после запятой\n",
        "*   DATE в формате ГГГГ-ММ-ДД со значением по умолчанию 1900-01-01\n",
        "*   DATETIME в формате ГГГГ-ММ-ДД ЧЧ:ММ:СС со значением по умолчанию 1900-01-01 00:00:00\n",
        "*   VARCHAR(N), где N - макисмальное количество символов\n",
        "*   NVARCHAR(N) - в отличие от VARCHAR(N), может хранить данные в колировке Unicode  \n",
        "\n"
      ],
      "metadata": {
        "id": "AAdHm9IcA74w"
      }
    },
    {
      "cell_type": "markdown",
      "source": [
        "# **Создание и заполнение/изменение таблицы**"
      ],
      "metadata": {
        "id": "NPAK2vgOAVN-"
      }
    },
    {
      "cell_type": "markdown",
      "source": [
        "Создание таблицы:\n",
        "\n",
        "INT PRIMARY KEY AUTO_INCREMENT - в поле первичного ключа будут вноситься натуральные числа в порядковом номере\n",
        "\n",
        "В конце SQL-запроса ставится точка с запятой (если запрос один, то необязательно)\n",
        "\n",
        "    \n",
        "CREATE TABLE name_of_table (\n",
        "\n",
        "\tfield1 INT PRIMARY KEY AUTO_INCREMENT,\n",
        "    filed2 VARCHAR(25),\n",
        "    field3 DATE\n",
        ");\n",
        "\n",
        "\n",
        "Создание таблицы на основе другой таблицы:\n",
        "CREATE TABLE name_of_table AS\n",
        "SELECT ...;\n",
        "\n",
        "Где SELECT - оператор запроса полей из таблицы.\n"
      ],
      "metadata": {
        "id": "jOr-C1g-Aphr"
      }
    },
    {
      "cell_type": "code",
      "source": [
        "%%sql\n",
        "SELECT 10 AS 'ten';"
      ],
      "metadata": {
        "colab": {
          "base_uri": "https://localhost:8080/",
          "height": 95
        },
        "id": "lhfwWmSzD0JH",
        "outputId": "f083d42e-f2eb-48a3-8afb-aaec43373e37"
      },
      "execution_count": 3,
      "outputs": [
        {
          "output_type": "stream",
          "name": "stdout",
          "text": [
            " * sqlite://\n",
            "Done.\n"
          ]
        },
        {
          "output_type": "execute_result",
          "data": {
            "text/plain": [
              "[(10,)]"
            ],
            "text/html": [
              "<table>\n",
              "    <thead>\n",
              "        <tr>\n",
              "            <th>ten</th>\n",
              "        </tr>\n",
              "    </thead>\n",
              "    <tbody>\n",
              "        <tr>\n",
              "            <td>10</td>\n",
              "        </tr>\n",
              "    </tbody>\n",
              "</table>"
            ]
          },
          "metadata": {},
          "execution_count": 3
        }
      ]
    },
    {
      "cell_type": "markdown",
      "source": [
        "Добавление данных в таблицу\n",
        "\n",
        "INSERT [INTO] name_of_table(field2, field3)\n",
        "\n",
        "VALUES\n",
        "       (value21, value31),\n",
        "\n",
        "       (value22, value32);  \n",
        "\n",
        "здесь нет поля1 и значения1, т.к. это primary key и он устанавливается сам автоматически."
      ],
      "metadata": {
        "id": "m-I8QgWuEMG7"
      }
    },
    {
      "cell_type": "code",
      "source": [
        "%%sql\n",
        "DROP TABLE IF EXISTS author;\n",
        "DROP TABLE IF EXISTS genre;\n",
        "DROP TABLE IF EXISTS book;"
      ],
      "metadata": {
        "colab": {
          "base_uri": "https://localhost:8080/"
        },
        "id": "aNV5Avq9FkFI",
        "outputId": "f290f52e-b1ca-4d2c-c22e-4492fbed7348"
      },
      "execution_count": 4,
      "outputs": [
        {
          "output_type": "stream",
          "name": "stdout",
          "text": [
            " * sqlite://\n",
            "Done.\n",
            "Done.\n",
            "Done.\n"
          ]
        },
        {
          "output_type": "execute_result",
          "data": {
            "text/plain": [
              "[]"
            ]
          },
          "metadata": {},
          "execution_count": 4
        }
      ]
    },
    {
      "cell_type": "markdown",
      "source": [
        "-- Создание таблицы с внешними ключами\n",
        "FOREIGN KEY (связанное поле зависимой таблицы) REFERENCES головная таблица (связанное поле зависимой таблицы) -\n",
        "задаёт связь в одну сторону (один ко многим)\n",
        "\n",
        "ON DELETE - устанавливает действия (при создании внешнего ключа), которые выполняются при удалении записей из\n",
        "подчинённой таблицы. Речь идёт только о связанных записях в таблицах.\n",
        "Список действий:\n",
        "\n",
        "*   CASCADE - удаляет строки зависимой таблицы при удалении строки из\n",
        "головной таблицы\n",
        "*   SET NULL - устанавливает для столбца внешнего ключа значение NULL при удалении строки головной таблицы\n",
        "*   SET DEFAULT - устанавливает для столбца внешнего ключа значение ПО УМОЛЧАНИЮ при удалении строки головной таблицы\n",
        "*   RESTRICT - отклоняет удаление строк в головной таблице при наличии записей в связанной таблице\n"
      ],
      "metadata": {
        "id": "XAYUIrxMP89t"
      }
    },
    {
      "cell_type": "code",
      "source": [
        "%%sql\n",
        "\n",
        "CREATE TABLE author\n",
        "    (\n",
        "        author_id INTEGER PRIMARY KEY AUTOINCREMENT,\n",
        "        name_author VARCHAR(50)\n",
        "    );\n",
        "\n",
        "INSERT INTO author (name_author)\n",
        "VALUES ('Булгаков М.А.'),\n",
        "       ('Достоевский Ф.М.'),\n",
        "       ('Есенин С.А.'),\n",
        "       ('Пастернак Б.Л.');\n",
        "\n",
        "CREATE TABLE genre\n",
        "    (\n",
        "        genre_id INTEGER PRIMARY KEY AUTOINCREMENT,\n",
        "        name_genre varchar(30)\n",
        "    );\n",
        "\n",
        "INSERT INTO genre (name_genre)\n",
        "VALUES ('Роман'),\n",
        "       ('Поэзия'),\n",
        "       ('Приключения');\n",
        "\n",
        "CREATE TABLE book\n",
        "    (\n",
        "        book_id INTEGER PRIMARY KEY AUTOINCREMENT,\n",
        "        title VARCHAR(50),\n",
        "        author_id INT,\n",
        "        genre_id int,\n",
        "        price DECIMAL(8, 2),\n",
        "        amount INT,\n",
        "        FOREIGN KEY (author_id) REFERENCES author (author_id) ON DELETE CASCADE,\n",
        "        FOREIGN KEY (genre_id) REFERENCES genre (genre_id) ON DELETE SET NULL\n",
        "    );\n",
        "\n",
        "INSERT INTO book (title, author_id, genre_id, price, amount)\n",
        "VALUES ('Мастер и Маргарита', 1, 1, 670.99, 3),\n",
        "       ('Белая гвардия ', 1, 1, 540.50, 5),\n",
        "       ('Идиот', 2, 1, 460.00, 10),\n",
        "       ('Братья Карамазовы', 2, 1, 799.01, 3),\n",
        "       ('Игрок', 2, 1, 480.50, 10),\n",
        "       ('Стихотворения и поэмы', 3, 2, 650.00, 15),\n",
        "       ('Черный человек', 3, 2, 570.20, 6),\n",
        "       ('Лирика', 4, 2, 518.99, 2);"
      ],
      "metadata": {
        "colab": {
          "base_uri": "https://localhost:8080/"
        },
        "id": "hfc5Cc9J_947",
        "outputId": "23e4e5a9-a7c7-4695-a1ac-0d1c5d3bb5a0"
      },
      "execution_count": 5,
      "outputs": [
        {
          "output_type": "stream",
          "name": "stdout",
          "text": [
            " * sqlite://\n",
            "Done.\n",
            "4 rows affected.\n",
            "Done.\n",
            "3 rows affected.\n",
            "Done.\n",
            "8 rows affected.\n"
          ]
        },
        {
          "output_type": "execute_result",
          "data": {
            "text/plain": [
              "[]"
            ]
          },
          "metadata": {},
          "execution_count": 5
        }
      ]
    },
    {
      "cell_type": "code",
      "source": [
        "%%sql\n",
        "SELECT *\n",
        "FROM book;"
      ],
      "metadata": {
        "colab": {
          "base_uri": "https://localhost:8080/",
          "height": 242
        },
        "id": "RvHdrWQmAHTN",
        "outputId": "b4c269d6-0dc8-4b64-91e1-ea1ff784eb8b"
      },
      "execution_count": 6,
      "outputs": [
        {
          "output_type": "stream",
          "name": "stdout",
          "text": [
            " * sqlite://\n",
            "Done.\n"
          ]
        },
        {
          "output_type": "execute_result",
          "data": {
            "text/plain": [
              "[(1, 'Мастер и Маргарита', 1, 1, 670.99, 3),\n",
              " (2, 'Белая гвардия ', 1, 1, 540.5, 5),\n",
              " (3, 'Идиот', 2, 1, 460, 10),\n",
              " (4, 'Братья Карамазовы', 2, 1, 799.01, 3),\n",
              " (5, 'Игрок', 2, 1, 480.5, 10),\n",
              " (6, 'Стихотворения и поэмы', 3, 2, 650, 15),\n",
              " (7, 'Черный человек', 3, 2, 570.2, 6),\n",
              " (8, 'Лирика', 4, 2, 518.99, 2)]"
            ],
            "text/html": [
              "<table>\n",
              "    <thead>\n",
              "        <tr>\n",
              "            <th>book_id</th>\n",
              "            <th>title</th>\n",
              "            <th>author_id</th>\n",
              "            <th>genre_id</th>\n",
              "            <th>price</th>\n",
              "            <th>amount</th>\n",
              "        </tr>\n",
              "    </thead>\n",
              "    <tbody>\n",
              "        <tr>\n",
              "            <td>1</td>\n",
              "            <td>Мастер и Маргарита</td>\n",
              "            <td>1</td>\n",
              "            <td>1</td>\n",
              "            <td>670.99</td>\n",
              "            <td>3</td>\n",
              "        </tr>\n",
              "        <tr>\n",
              "            <td>2</td>\n",
              "            <td>Белая гвардия </td>\n",
              "            <td>1</td>\n",
              "            <td>1</td>\n",
              "            <td>540.5</td>\n",
              "            <td>5</td>\n",
              "        </tr>\n",
              "        <tr>\n",
              "            <td>3</td>\n",
              "            <td>Идиот</td>\n",
              "            <td>2</td>\n",
              "            <td>1</td>\n",
              "            <td>460</td>\n",
              "            <td>10</td>\n",
              "        </tr>\n",
              "        <tr>\n",
              "            <td>4</td>\n",
              "            <td>Братья Карамазовы</td>\n",
              "            <td>2</td>\n",
              "            <td>1</td>\n",
              "            <td>799.01</td>\n",
              "            <td>3</td>\n",
              "        </tr>\n",
              "        <tr>\n",
              "            <td>5</td>\n",
              "            <td>Игрок</td>\n",
              "            <td>2</td>\n",
              "            <td>1</td>\n",
              "            <td>480.5</td>\n",
              "            <td>10</td>\n",
              "        </tr>\n",
              "        <tr>\n",
              "            <td>6</td>\n",
              "            <td>Стихотворения и поэмы</td>\n",
              "            <td>3</td>\n",
              "            <td>2</td>\n",
              "            <td>650</td>\n",
              "            <td>15</td>\n",
              "        </tr>\n",
              "        <tr>\n",
              "            <td>7</td>\n",
              "            <td>Черный человек</td>\n",
              "            <td>3</td>\n",
              "            <td>2</td>\n",
              "            <td>570.2</td>\n",
              "            <td>6</td>\n",
              "        </tr>\n",
              "        <tr>\n",
              "            <td>8</td>\n",
              "            <td>Лирика</td>\n",
              "            <td>4</td>\n",
              "            <td>2</td>\n",
              "            <td>518.99</td>\n",
              "            <td>2</td>\n",
              "        </tr>\n",
              "    </tbody>\n",
              "</table>"
            ]
          },
          "metadata": {},
          "execution_count": 6
        }
      ]
    },
    {
      "cell_type": "markdown",
      "source": [
        "Изменим некоторые строки в таблице book по некоторому условию"
      ],
      "metadata": {
        "id": "ZDk6jgZ8F_kW"
      }
    },
    {
      "cell_type": "code",
      "source": [
        "%%sql\n",
        "UPDATE book\n",
        "SET price = 500.0\n",
        "WHERE price < 490;\n",
        "\n",
        "SELECT *\n",
        "FROM book;"
      ],
      "metadata": {
        "colab": {
          "base_uri": "https://localhost:8080/",
          "height": 259
        },
        "id": "nuc9IP4rF-zJ",
        "outputId": "13ee136e-9a69-4796-ffd3-a759b64b21d0"
      },
      "execution_count": 7,
      "outputs": [
        {
          "output_type": "stream",
          "name": "stdout",
          "text": [
            " * sqlite://\n",
            "2 rows affected.\n",
            "Done.\n"
          ]
        },
        {
          "output_type": "execute_result",
          "data": {
            "text/plain": [
              "[(1, 'Мастер и Маргарита', 1, 1, 670.99, 3),\n",
              " (2, 'Белая гвардия ', 1, 1, 540.5, 5),\n",
              " (3, 'Идиот', 2, 1, 500, 10),\n",
              " (4, 'Братья Карамазовы', 2, 1, 799.01, 3),\n",
              " (5, 'Игрок', 2, 1, 500, 10),\n",
              " (6, 'Стихотворения и поэмы', 3, 2, 650, 15),\n",
              " (7, 'Черный человек', 3, 2, 570.2, 6),\n",
              " (8, 'Лирика', 4, 2, 518.99, 2)]"
            ],
            "text/html": [
              "<table>\n",
              "    <thead>\n",
              "        <tr>\n",
              "            <th>book_id</th>\n",
              "            <th>title</th>\n",
              "            <th>author_id</th>\n",
              "            <th>genre_id</th>\n",
              "            <th>price</th>\n",
              "            <th>amount</th>\n",
              "        </tr>\n",
              "    </thead>\n",
              "    <tbody>\n",
              "        <tr>\n",
              "            <td>1</td>\n",
              "            <td>Мастер и Маргарита</td>\n",
              "            <td>1</td>\n",
              "            <td>1</td>\n",
              "            <td>670.99</td>\n",
              "            <td>3</td>\n",
              "        </tr>\n",
              "        <tr>\n",
              "            <td>2</td>\n",
              "            <td>Белая гвардия </td>\n",
              "            <td>1</td>\n",
              "            <td>1</td>\n",
              "            <td>540.5</td>\n",
              "            <td>5</td>\n",
              "        </tr>\n",
              "        <tr>\n",
              "            <td>3</td>\n",
              "            <td>Идиот</td>\n",
              "            <td>2</td>\n",
              "            <td>1</td>\n",
              "            <td>500</td>\n",
              "            <td>10</td>\n",
              "        </tr>\n",
              "        <tr>\n",
              "            <td>4</td>\n",
              "            <td>Братья Карамазовы</td>\n",
              "            <td>2</td>\n",
              "            <td>1</td>\n",
              "            <td>799.01</td>\n",
              "            <td>3</td>\n",
              "        </tr>\n",
              "        <tr>\n",
              "            <td>5</td>\n",
              "            <td>Игрок</td>\n",
              "            <td>2</td>\n",
              "            <td>1</td>\n",
              "            <td>500</td>\n",
              "            <td>10</td>\n",
              "        </tr>\n",
              "        <tr>\n",
              "            <td>6</td>\n",
              "            <td>Стихотворения и поэмы</td>\n",
              "            <td>3</td>\n",
              "            <td>2</td>\n",
              "            <td>650</td>\n",
              "            <td>15</td>\n",
              "        </tr>\n",
              "        <tr>\n",
              "            <td>7</td>\n",
              "            <td>Черный человек</td>\n",
              "            <td>3</td>\n",
              "            <td>2</td>\n",
              "            <td>570.2</td>\n",
              "            <td>6</td>\n",
              "        </tr>\n",
              "        <tr>\n",
              "            <td>8</td>\n",
              "            <td>Лирика</td>\n",
              "            <td>4</td>\n",
              "            <td>2</td>\n",
              "            <td>518.99</td>\n",
              "            <td>2</td>\n",
              "        </tr>\n",
              "    </tbody>\n",
              "</table>"
            ]
          },
          "metadata": {},
          "execution_count": 7
        }
      ]
    },
    {
      "cell_type": "markdown",
      "source": [
        "Добавим в таблицу новую колонку"
      ],
      "metadata": {
        "id": "3oZi18FfIdFE"
      }
    },
    {
      "cell_type": "code",
      "source": [
        "%%sql\n",
        "\n",
        "ALTER TABLE book ADD COLUMN rating NUMERIC(2, 1);\n",
        "UPDATE book\n",
        "SET rating = IIF(price < 600, 3.0, IIF(price < 700, 4.1, 5.0));\n",
        "SELECT *\n",
        "FROM book;"
      ],
      "metadata": {
        "colab": {
          "base_uri": "https://localhost:8080/",
          "height": 277
        },
        "id": "n9HMmWM3IcsV",
        "outputId": "a654b297-e9c5-46b8-fb4a-08949a8892c1"
      },
      "execution_count": 8,
      "outputs": [
        {
          "output_type": "stream",
          "name": "stdout",
          "text": [
            " * sqlite://\n",
            "Done.\n",
            "8 rows affected.\n",
            "Done.\n"
          ]
        },
        {
          "output_type": "execute_result",
          "data": {
            "text/plain": [
              "[(1, 'Мастер и Маргарита', 1, 1, 670.99, 3, 4.1),\n",
              " (2, 'Белая гвардия ', 1, 1, 540.5, 5, 3),\n",
              " (3, 'Идиот', 2, 1, 500, 10, 3),\n",
              " (4, 'Братья Карамазовы', 2, 1, 799.01, 3, 5),\n",
              " (5, 'Игрок', 2, 1, 500, 10, 3),\n",
              " (6, 'Стихотворения и поэмы', 3, 2, 650, 15, 4.1),\n",
              " (7, 'Черный человек', 3, 2, 570.2, 6, 3),\n",
              " (8, 'Лирика', 4, 2, 518.99, 2, 3)]"
            ],
            "text/html": [
              "<table>\n",
              "    <thead>\n",
              "        <tr>\n",
              "            <th>book_id</th>\n",
              "            <th>title</th>\n",
              "            <th>author_id</th>\n",
              "            <th>genre_id</th>\n",
              "            <th>price</th>\n",
              "            <th>amount</th>\n",
              "            <th>rating</th>\n",
              "        </tr>\n",
              "    </thead>\n",
              "    <tbody>\n",
              "        <tr>\n",
              "            <td>1</td>\n",
              "            <td>Мастер и Маргарита</td>\n",
              "            <td>1</td>\n",
              "            <td>1</td>\n",
              "            <td>670.99</td>\n",
              "            <td>3</td>\n",
              "            <td>4.1</td>\n",
              "        </tr>\n",
              "        <tr>\n",
              "            <td>2</td>\n",
              "            <td>Белая гвардия </td>\n",
              "            <td>1</td>\n",
              "            <td>1</td>\n",
              "            <td>540.5</td>\n",
              "            <td>5</td>\n",
              "            <td>3</td>\n",
              "        </tr>\n",
              "        <tr>\n",
              "            <td>3</td>\n",
              "            <td>Идиот</td>\n",
              "            <td>2</td>\n",
              "            <td>1</td>\n",
              "            <td>500</td>\n",
              "            <td>10</td>\n",
              "            <td>3</td>\n",
              "        </tr>\n",
              "        <tr>\n",
              "            <td>4</td>\n",
              "            <td>Братья Карамазовы</td>\n",
              "            <td>2</td>\n",
              "            <td>1</td>\n",
              "            <td>799.01</td>\n",
              "            <td>3</td>\n",
              "            <td>5</td>\n",
              "        </tr>\n",
              "        <tr>\n",
              "            <td>5</td>\n",
              "            <td>Игрок</td>\n",
              "            <td>2</td>\n",
              "            <td>1</td>\n",
              "            <td>500</td>\n",
              "            <td>10</td>\n",
              "            <td>3</td>\n",
              "        </tr>\n",
              "        <tr>\n",
              "            <td>6</td>\n",
              "            <td>Стихотворения и поэмы</td>\n",
              "            <td>3</td>\n",
              "            <td>2</td>\n",
              "            <td>650</td>\n",
              "            <td>15</td>\n",
              "            <td>4.1</td>\n",
              "        </tr>\n",
              "        <tr>\n",
              "            <td>7</td>\n",
              "            <td>Черный человек</td>\n",
              "            <td>3</td>\n",
              "            <td>2</td>\n",
              "            <td>570.2</td>\n",
              "            <td>6</td>\n",
              "            <td>3</td>\n",
              "        </tr>\n",
              "        <tr>\n",
              "            <td>8</td>\n",
              "            <td>Лирика</td>\n",
              "            <td>4</td>\n",
              "            <td>2</td>\n",
              "            <td>518.99</td>\n",
              "            <td>2</td>\n",
              "            <td>3</td>\n",
              "        </tr>\n",
              "    </tbody>\n",
              "</table>"
            ]
          },
          "metadata": {},
          "execution_count": 8
        }
      ]
    },
    {
      "cell_type": "markdown",
      "source": [
        "Изменим название колонки. Не в SQLite писали бы ALTER COLUMN, а не RENAME COLUMN"
      ],
      "metadata": {
        "id": "Ep338z6vKLZY"
      }
    },
    {
      "cell_type": "code",
      "source": [
        "%%sql\n",
        "\n",
        "ALTER TABLE book RENAME COLUMN rating TO RATING;\n",
        "SELECT *\n",
        "FROM book;"
      ],
      "metadata": {
        "colab": {
          "base_uri": "https://localhost:8080/",
          "height": 259
        },
        "id": "wEMErtUsI-Y2",
        "outputId": "80d55537-77b6-428d-90a8-17727cb6958c"
      },
      "execution_count": 9,
      "outputs": [
        {
          "output_type": "stream",
          "name": "stdout",
          "text": [
            " * sqlite://\n",
            "Done.\n",
            "Done.\n"
          ]
        },
        {
          "output_type": "execute_result",
          "data": {
            "text/plain": [
              "[(1, 'Мастер и Маргарита', 1, 1, 670.99, 3, 4.1),\n",
              " (2, 'Белая гвардия ', 1, 1, 540.5, 5, 3),\n",
              " (3, 'Идиот', 2, 1, 500, 10, 3),\n",
              " (4, 'Братья Карамазовы', 2, 1, 799.01, 3, 5),\n",
              " (5, 'Игрок', 2, 1, 500, 10, 3),\n",
              " (6, 'Стихотворения и поэмы', 3, 2, 650, 15, 4.1),\n",
              " (7, 'Черный человек', 3, 2, 570.2, 6, 3),\n",
              " (8, 'Лирика', 4, 2, 518.99, 2, 3)]"
            ],
            "text/html": [
              "<table>\n",
              "    <thead>\n",
              "        <tr>\n",
              "            <th>book_id</th>\n",
              "            <th>title</th>\n",
              "            <th>author_id</th>\n",
              "            <th>genre_id</th>\n",
              "            <th>price</th>\n",
              "            <th>amount</th>\n",
              "            <th>RATING</th>\n",
              "        </tr>\n",
              "    </thead>\n",
              "    <tbody>\n",
              "        <tr>\n",
              "            <td>1</td>\n",
              "            <td>Мастер и Маргарита</td>\n",
              "            <td>1</td>\n",
              "            <td>1</td>\n",
              "            <td>670.99</td>\n",
              "            <td>3</td>\n",
              "            <td>4.1</td>\n",
              "        </tr>\n",
              "        <tr>\n",
              "            <td>2</td>\n",
              "            <td>Белая гвардия </td>\n",
              "            <td>1</td>\n",
              "            <td>1</td>\n",
              "            <td>540.5</td>\n",
              "            <td>5</td>\n",
              "            <td>3</td>\n",
              "        </tr>\n",
              "        <tr>\n",
              "            <td>3</td>\n",
              "            <td>Идиот</td>\n",
              "            <td>2</td>\n",
              "            <td>1</td>\n",
              "            <td>500</td>\n",
              "            <td>10</td>\n",
              "            <td>3</td>\n",
              "        </tr>\n",
              "        <tr>\n",
              "            <td>4</td>\n",
              "            <td>Братья Карамазовы</td>\n",
              "            <td>2</td>\n",
              "            <td>1</td>\n",
              "            <td>799.01</td>\n",
              "            <td>3</td>\n",
              "            <td>5</td>\n",
              "        </tr>\n",
              "        <tr>\n",
              "            <td>5</td>\n",
              "            <td>Игрок</td>\n",
              "            <td>2</td>\n",
              "            <td>1</td>\n",
              "            <td>500</td>\n",
              "            <td>10</td>\n",
              "            <td>3</td>\n",
              "        </tr>\n",
              "        <tr>\n",
              "            <td>6</td>\n",
              "            <td>Стихотворения и поэмы</td>\n",
              "            <td>3</td>\n",
              "            <td>2</td>\n",
              "            <td>650</td>\n",
              "            <td>15</td>\n",
              "            <td>4.1</td>\n",
              "        </tr>\n",
              "        <tr>\n",
              "            <td>7</td>\n",
              "            <td>Черный человек</td>\n",
              "            <td>3</td>\n",
              "            <td>2</td>\n",
              "            <td>570.2</td>\n",
              "            <td>6</td>\n",
              "            <td>3</td>\n",
              "        </tr>\n",
              "        <tr>\n",
              "            <td>8</td>\n",
              "            <td>Лирика</td>\n",
              "            <td>4</td>\n",
              "            <td>2</td>\n",
              "            <td>518.99</td>\n",
              "            <td>2</td>\n",
              "            <td>3</td>\n",
              "        </tr>\n",
              "    </tbody>\n",
              "</table>"
            ]
          },
          "metadata": {},
          "execution_count": 9
        }
      ]
    },
    {
      "cell_type": "markdown",
      "source": [
        "Удалим нашу новую колонку из таблицы"
      ],
      "metadata": {
        "id": "In4K2ARzLnsq"
      }
    },
    {
      "cell_type": "code",
      "source": [
        "%%sql\n",
        "\n",
        "ALTER TABLE book DROP COLUMN rating;\n",
        "SELECT *\n",
        "FROM book;"
      ],
      "metadata": {
        "colab": {
          "base_uri": "https://localhost:8080/",
          "height": 259
        },
        "id": "JUFObg1FLUXz",
        "outputId": "5eff0182-3483-4601-ae8c-e1ff325172b3"
      },
      "execution_count": 10,
      "outputs": [
        {
          "output_type": "stream",
          "name": "stdout",
          "text": [
            " * sqlite://\n",
            "Done.\n",
            "Done.\n"
          ]
        },
        {
          "output_type": "execute_result",
          "data": {
            "text/plain": [
              "[(1, 'Мастер и Маргарита', 1, 1, 670.99, 3),\n",
              " (2, 'Белая гвардия ', 1, 1, 540.5, 5),\n",
              " (3, 'Идиот', 2, 1, 500, 10),\n",
              " (4, 'Братья Карамазовы', 2, 1, 799.01, 3),\n",
              " (5, 'Игрок', 2, 1, 500, 10),\n",
              " (6, 'Стихотворения и поэмы', 3, 2, 650, 15),\n",
              " (7, 'Черный человек', 3, 2, 570.2, 6),\n",
              " (8, 'Лирика', 4, 2, 518.99, 2)]"
            ],
            "text/html": [
              "<table>\n",
              "    <thead>\n",
              "        <tr>\n",
              "            <th>book_id</th>\n",
              "            <th>title</th>\n",
              "            <th>author_id</th>\n",
              "            <th>genre_id</th>\n",
              "            <th>price</th>\n",
              "            <th>amount</th>\n",
              "        </tr>\n",
              "    </thead>\n",
              "    <tbody>\n",
              "        <tr>\n",
              "            <td>1</td>\n",
              "            <td>Мастер и Маргарита</td>\n",
              "            <td>1</td>\n",
              "            <td>1</td>\n",
              "            <td>670.99</td>\n",
              "            <td>3</td>\n",
              "        </tr>\n",
              "        <tr>\n",
              "            <td>2</td>\n",
              "            <td>Белая гвардия </td>\n",
              "            <td>1</td>\n",
              "            <td>1</td>\n",
              "            <td>540.5</td>\n",
              "            <td>5</td>\n",
              "        </tr>\n",
              "        <tr>\n",
              "            <td>3</td>\n",
              "            <td>Идиот</td>\n",
              "            <td>2</td>\n",
              "            <td>1</td>\n",
              "            <td>500</td>\n",
              "            <td>10</td>\n",
              "        </tr>\n",
              "        <tr>\n",
              "            <td>4</td>\n",
              "            <td>Братья Карамазовы</td>\n",
              "            <td>2</td>\n",
              "            <td>1</td>\n",
              "            <td>799.01</td>\n",
              "            <td>3</td>\n",
              "        </tr>\n",
              "        <tr>\n",
              "            <td>5</td>\n",
              "            <td>Игрок</td>\n",
              "            <td>2</td>\n",
              "            <td>1</td>\n",
              "            <td>500</td>\n",
              "            <td>10</td>\n",
              "        </tr>\n",
              "        <tr>\n",
              "            <td>6</td>\n",
              "            <td>Стихотворения и поэмы</td>\n",
              "            <td>3</td>\n",
              "            <td>2</td>\n",
              "            <td>650</td>\n",
              "            <td>15</td>\n",
              "        </tr>\n",
              "        <tr>\n",
              "            <td>7</td>\n",
              "            <td>Черный человек</td>\n",
              "            <td>3</td>\n",
              "            <td>2</td>\n",
              "            <td>570.2</td>\n",
              "            <td>6</td>\n",
              "        </tr>\n",
              "        <tr>\n",
              "            <td>8</td>\n",
              "            <td>Лирика</td>\n",
              "            <td>4</td>\n",
              "            <td>2</td>\n",
              "            <td>518.99</td>\n",
              "            <td>2</td>\n",
              "        </tr>\n",
              "    </tbody>\n",
              "</table>"
            ]
          },
          "metadata": {},
          "execution_count": 10
        }
      ]
    },
    {
      "cell_type": "markdown",
      "source": [
        "# **Подзапросы**"
      ],
      "metadata": {
        "id": "HuK1PnCeMbtN"
      }
    },
    {
      "cell_type": "code",
      "source": [
        "%%sql\n",
        "\n",
        "SELECT *\n",
        "FROM book\n",
        "WHERE author_id NOT IN (SELECT author_id FROM book WHERE author_id <= 3)"
      ],
      "metadata": {
        "colab": {
          "base_uri": "https://localhost:8080/",
          "height": 95
        },
        "id": "KjVjfTUsMbXH",
        "outputId": "9ef32096-f04e-4803-f32e-d8ca9bf2a699"
      },
      "execution_count": 11,
      "outputs": [
        {
          "output_type": "stream",
          "name": "stdout",
          "text": [
            " * sqlite://\n",
            "Done.\n"
          ]
        },
        {
          "output_type": "execute_result",
          "data": {
            "text/plain": [
              "[(8, 'Лирика', 4, 2, 518.99, 2)]"
            ],
            "text/html": [
              "<table>\n",
              "    <thead>\n",
              "        <tr>\n",
              "            <th>book_id</th>\n",
              "            <th>title</th>\n",
              "            <th>author_id</th>\n",
              "            <th>genre_id</th>\n",
              "            <th>price</th>\n",
              "            <th>amount</th>\n",
              "        </tr>\n",
              "    </thead>\n",
              "    <tbody>\n",
              "        <tr>\n",
              "            <td>8</td>\n",
              "            <td>Лирика</td>\n",
              "            <td>4</td>\n",
              "            <td>2</td>\n",
              "            <td>518.99</td>\n",
              "            <td>2</td>\n",
              "        </tr>\n",
              "    </tbody>\n",
              "</table>"
            ]
          },
          "metadata": {},
          "execution_count": 11
        }
      ]
    },
    {
      "cell_type": "markdown",
      "source": [
        "# **Группировка и агрегирующие функции**"
      ],
      "metadata": {
        "id": "24tmZD7KLvFa"
      }
    },
    {
      "cell_type": "code",
      "source": [
        "%%sql\n",
        "\n",
        "SELECT SUM(price) AS sum\n",
        "FROM book;"
      ],
      "metadata": {
        "colab": {
          "base_uri": "https://localhost:8080/",
          "height": 95
        },
        "id": "_gCDz7Q4Lzp-",
        "outputId": "421b5430-9eca-4702-9d8b-e675c85437e5"
      },
      "execution_count": 12,
      "outputs": [
        {
          "output_type": "stream",
          "name": "stdout",
          "text": [
            " * sqlite://\n",
            "Done.\n"
          ]
        },
        {
          "output_type": "execute_result",
          "data": {
            "text/plain": [
              "[(4749.69,)]"
            ],
            "text/html": [
              "<table>\n",
              "    <thead>\n",
              "        <tr>\n",
              "            <th>sum</th>\n",
              "        </tr>\n",
              "    </thead>\n",
              "    <tbody>\n",
              "        <tr>\n",
              "            <td>4749.69</td>\n",
              "        </tr>\n",
              "    </tbody>\n",
              "</table>"
            ]
          },
          "metadata": {},
          "execution_count": 12
        }
      ]
    },
    {
      "cell_type": "code",
      "source": [
        "%%sql\n",
        "\n",
        "SELECT ROUND(AVG(price), 2) AS average\n",
        "FROM book;"
      ],
      "metadata": {
        "colab": {
          "base_uri": "https://localhost:8080/",
          "height": 95
        },
        "id": "e19vMEEYL6rf",
        "outputId": "00ffd820-bed8-4b39-f00a-942d04f20f5e"
      },
      "execution_count": 13,
      "outputs": [
        {
          "output_type": "stream",
          "name": "stdout",
          "text": [
            " * sqlite://\n",
            "Done.\n"
          ]
        },
        {
          "output_type": "execute_result",
          "data": {
            "text/plain": [
              "[(593.71,)]"
            ],
            "text/html": [
              "<table>\n",
              "    <thead>\n",
              "        <tr>\n",
              "            <th>average</th>\n",
              "        </tr>\n",
              "    </thead>\n",
              "    <tbody>\n",
              "        <tr>\n",
              "            <td>593.71</td>\n",
              "        </tr>\n",
              "    </tbody>\n",
              "</table>"
            ]
          },
          "metadata": {},
          "execution_count": 13
        }
      ]
    },
    {
      "cell_type": "code",
      "source": [
        "%%sql\n",
        "\n",
        "SELECT MIN(price) AS min\n",
        "FROM book;"
      ],
      "metadata": {
        "colab": {
          "base_uri": "https://localhost:8080/",
          "height": 95
        },
        "id": "0iSNHobRMDwu",
        "outputId": "b5153d9f-1cf4-417d-bc3f-f50aa8878410"
      },
      "execution_count": 14,
      "outputs": [
        {
          "output_type": "stream",
          "name": "stdout",
          "text": [
            " * sqlite://\n",
            "Done.\n"
          ]
        },
        {
          "output_type": "execute_result",
          "data": {
            "text/plain": [
              "[(500,)]"
            ],
            "text/html": [
              "<table>\n",
              "    <thead>\n",
              "        <tr>\n",
              "            <th>min</th>\n",
              "        </tr>\n",
              "    </thead>\n",
              "    <tbody>\n",
              "        <tr>\n",
              "            <td>500</td>\n",
              "        </tr>\n",
              "    </tbody>\n",
              "</table>"
            ]
          },
          "metadata": {},
          "execution_count": 14
        }
      ]
    },
    {
      "cell_type": "code",
      "source": [
        "%%sql\n",
        "\n",
        "SELECT MAX(price) AS max\n",
        "FROM book;"
      ],
      "metadata": {
        "colab": {
          "base_uri": "https://localhost:8080/",
          "height": 95
        },
        "id": "IES2kDYRMQVQ",
        "outputId": "6029e9e8-19b0-4041-9a34-3293e7eb2b91"
      },
      "execution_count": 15,
      "outputs": [
        {
          "output_type": "stream",
          "name": "stdout",
          "text": [
            " * sqlite://\n",
            "Done.\n"
          ]
        },
        {
          "output_type": "execute_result",
          "data": {
            "text/plain": [
              "[(799.01,)]"
            ],
            "text/html": [
              "<table>\n",
              "    <thead>\n",
              "        <tr>\n",
              "            <th>max</th>\n",
              "        </tr>\n",
              "    </thead>\n",
              "    <tbody>\n",
              "        <tr>\n",
              "            <td>799.01</td>\n",
              "        </tr>\n",
              "    </tbody>\n",
              "</table>"
            ]
          },
          "metadata": {},
          "execution_count": 15
        }
      ]
    },
    {
      "cell_type": "markdown",
      "source": [
        "Внутри агрегирующих функций НЕЛЬЗЯ писать подзапросы"
      ],
      "metadata": {
        "id": "FJlS3P-lNY_n"
      }
    },
    {
      "cell_type": "code",
      "source": [
        "%%sql\n",
        "\n",
        "SELECT SUM(SELECT price FROM book WHERE author_id = 4) AS sum\n",
        "FROM book;"
      ],
      "metadata": {
        "colab": {
          "base_uri": "https://localhost:8080/"
        },
        "id": "xOVgJrDGNOJW",
        "outputId": "16d3a695-4666-4313-98b3-74c72762b390"
      },
      "execution_count": 16,
      "outputs": [
        {
          "output_type": "stream",
          "name": "stdout",
          "text": [
            " * sqlite://\n",
            "(sqlite3.OperationalError) near \"SELECT\": syntax error\n",
            "[SQL: SELECT SUM(SELECT price FROM book WHERE author_id = 4) AS sum\n",
            "FROM book;]\n",
            "(Background on this error at: https://sqlalche.me/e/20/e3q8)\n"
          ]
        }
      ]
    },
    {
      "cell_type": "markdown",
      "source": [
        "Выполним группировку по author_id. При этом в таблице все поля, кроме агрегирующих функций должны быть указаны БЕЗ ПСЕВДОНИМА в GROUP BY"
      ],
      "metadata": {
        "id": "qMq-Ls7vNn0b"
      }
    },
    {
      "cell_type": "code",
      "source": [
        "%%sql\n",
        "\n",
        "SELECT author_id,\n",
        "       SUM(price) as sum\n",
        "FROM book\n",
        "GROUP BY author_id;"
      ],
      "metadata": {
        "colab": {
          "base_uri": "https://localhost:8080/",
          "height": 158
        },
        "id": "1HpA4S2qNnU0",
        "outputId": "06de3640-df92-45ed-bbb9-3b01b3e73a8a"
      },
      "execution_count": 17,
      "outputs": [
        {
          "output_type": "stream",
          "name": "stdout",
          "text": [
            " * sqlite://\n",
            "Done.\n"
          ]
        },
        {
          "output_type": "execute_result",
          "data": {
            "text/plain": [
              "[(1, 1211.49), (2, 1799.01), (3, 1220.2), (4, 518.99)]"
            ],
            "text/html": [
              "<table>\n",
              "    <thead>\n",
              "        <tr>\n",
              "            <th>author_id</th>\n",
              "            <th>sum</th>\n",
              "        </tr>\n",
              "    </thead>\n",
              "    <tbody>\n",
              "        <tr>\n",
              "            <td>1</td>\n",
              "            <td>1211.49</td>\n",
              "        </tr>\n",
              "        <tr>\n",
              "            <td>2</td>\n",
              "            <td>1799.01</td>\n",
              "        </tr>\n",
              "        <tr>\n",
              "            <td>3</td>\n",
              "            <td>1220.2</td>\n",
              "        </tr>\n",
              "        <tr>\n",
              "            <td>4</td>\n",
              "            <td>518.99</td>\n",
              "        </tr>\n",
              "    </tbody>\n",
              "</table>"
            ]
          },
          "metadata": {},
          "execution_count": 17
        }
      ]
    },
    {
      "cell_type": "markdown",
      "source": [
        "Хотя SQLite вроде хавает :)"
      ],
      "metadata": {
        "id": "nykuTB-YOYlZ"
      }
    },
    {
      "cell_type": "code",
      "source": [
        "%%sql\n",
        "\n",
        "SELECT author_id,\n",
        "       genre_id,\n",
        "       SUM(price) as sum\n",
        "FROM book\n",
        "GROUP BY author_id;"
      ],
      "metadata": {
        "colab": {
          "base_uri": "https://localhost:8080/",
          "height": 158
        },
        "id": "CsNkPu_9Ng0t",
        "outputId": "ef363138-e312-44bf-fc7f-1da531c85b7f"
      },
      "execution_count": 18,
      "outputs": [
        {
          "output_type": "stream",
          "name": "stdout",
          "text": [
            " * sqlite://\n",
            "Done.\n"
          ]
        },
        {
          "output_type": "execute_result",
          "data": {
            "text/plain": [
              "[(1, 1, 1211.49), (2, 1, 1799.01), (3, 2, 1220.2), (4, 2, 518.99)]"
            ],
            "text/html": [
              "<table>\n",
              "    <thead>\n",
              "        <tr>\n",
              "            <th>author_id</th>\n",
              "            <th>genre_id</th>\n",
              "            <th>sum</th>\n",
              "        </tr>\n",
              "    </thead>\n",
              "    <tbody>\n",
              "        <tr>\n",
              "            <td>1</td>\n",
              "            <td>1</td>\n",
              "            <td>1211.49</td>\n",
              "        </tr>\n",
              "        <tr>\n",
              "            <td>2</td>\n",
              "            <td>1</td>\n",
              "            <td>1799.01</td>\n",
              "        </tr>\n",
              "        <tr>\n",
              "            <td>3</td>\n",
              "            <td>2</td>\n",
              "            <td>1220.2</td>\n",
              "        </tr>\n",
              "        <tr>\n",
              "            <td>4</td>\n",
              "            <td>2</td>\n",
              "            <td>518.99</td>\n",
              "        </tr>\n",
              "    </tbody>\n",
              "</table>"
            ]
          },
          "metadata": {},
          "execution_count": 18
        }
      ]
    },
    {
      "cell_type": "code",
      "source": [
        "%%sql\n",
        "\n",
        "SELECT author_id,\n",
        "       genre_id,\n",
        "       SUM(price) as sum\n",
        "FROM book\n",
        "GROUP BY author_id, genre_id;"
      ],
      "metadata": {
        "colab": {
          "base_uri": "https://localhost:8080/",
          "height": 158
        },
        "id": "b4zmmkJpODwe",
        "outputId": "718737d0-d637-431a-fbea-79371c46fe02"
      },
      "execution_count": 19,
      "outputs": [
        {
          "output_type": "stream",
          "name": "stdout",
          "text": [
            " * sqlite://\n",
            "Done.\n"
          ]
        },
        {
          "output_type": "execute_result",
          "data": {
            "text/plain": [
              "[(1, 1, 1211.49), (2, 1, 1799.01), (3, 2, 1220.2), (4, 2, 518.99)]"
            ],
            "text/html": [
              "<table>\n",
              "    <thead>\n",
              "        <tr>\n",
              "            <th>author_id</th>\n",
              "            <th>genre_id</th>\n",
              "            <th>sum</th>\n",
              "        </tr>\n",
              "    </thead>\n",
              "    <tbody>\n",
              "        <tr>\n",
              "            <td>1</td>\n",
              "            <td>1</td>\n",
              "            <td>1211.49</td>\n",
              "        </tr>\n",
              "        <tr>\n",
              "            <td>2</td>\n",
              "            <td>1</td>\n",
              "            <td>1799.01</td>\n",
              "        </tr>\n",
              "        <tr>\n",
              "            <td>3</td>\n",
              "            <td>2</td>\n",
              "            <td>1220.2</td>\n",
              "        </tr>\n",
              "        <tr>\n",
              "            <td>4</td>\n",
              "            <td>2</td>\n",
              "            <td>518.99</td>\n",
              "        </tr>\n",
              "    </tbody>\n",
              "</table>"
            ]
          },
          "metadata": {},
          "execution_count": 19
        }
      ]
    },
    {
      "cell_type": "markdown",
      "source": [
        "Отсортируем данные. Если хотим по убыванию - ставим DESC. Если по возрастанию - опционально ставим ASC"
      ],
      "metadata": {
        "id": "u14Kra9lOhvh"
      }
    },
    {
      "cell_type": "code",
      "source": [
        "%%sql\n",
        "\n",
        "SELECT author_id,\n",
        "       SUM(price) as sum\n",
        "FROM book\n",
        "GROUP BY author_id\n",
        "ORDER BY author_id DESC;"
      ],
      "metadata": {
        "colab": {
          "base_uri": "https://localhost:8080/",
          "height": 158
        },
        "id": "p-Oj2fQKOd3w",
        "outputId": "31e4a6fa-54ce-4ab1-9cc6-e2b2852635d8"
      },
      "execution_count": 20,
      "outputs": [
        {
          "output_type": "stream",
          "name": "stdout",
          "text": [
            " * sqlite://\n",
            "Done.\n"
          ]
        },
        {
          "output_type": "execute_result",
          "data": {
            "text/plain": [
              "[(4, 518.99), (3, 1220.2), (2, 1799.01), (1, 1211.49)]"
            ],
            "text/html": [
              "<table>\n",
              "    <thead>\n",
              "        <tr>\n",
              "            <th>author_id</th>\n",
              "            <th>sum</th>\n",
              "        </tr>\n",
              "    </thead>\n",
              "    <tbody>\n",
              "        <tr>\n",
              "            <td>4</td>\n",
              "            <td>518.99</td>\n",
              "        </tr>\n",
              "        <tr>\n",
              "            <td>3</td>\n",
              "            <td>1220.2</td>\n",
              "        </tr>\n",
              "        <tr>\n",
              "            <td>2</td>\n",
              "            <td>1799.01</td>\n",
              "        </tr>\n",
              "        <tr>\n",
              "            <td>1</td>\n",
              "            <td>1211.49</td>\n",
              "        </tr>\n",
              "    </tbody>\n",
              "</table>"
            ]
          },
          "metadata": {},
          "execution_count": 20
        }
      ]
    },
    {
      "cell_type": "markdown",
      "source": [
        "Внутри WHERE нельзя использовать агрегирующие функции. Для этого есть HAVING, который можно использовать без GROUP BY"
      ],
      "metadata": {
        "id": "YDZFX2d3eMI0"
      }
    },
    {
      "cell_type": "code",
      "source": [
        "%%sql\n",
        "\n",
        "SELECT author_id,\n",
        "       SUM(price) as sum\n",
        "FROM book\n",
        "GROUP BY author_id\n",
        "HAVING SUM(price) > 1215\n",
        "ORDER BY author_id DESC;"
      ],
      "metadata": {
        "colab": {
          "base_uri": "https://localhost:8080/",
          "height": 116
        },
        "id": "9iVovS1PeViH",
        "outputId": "360f6248-7635-4a30-a0a4-f81ef1a853e2"
      },
      "execution_count": 21,
      "outputs": [
        {
          "output_type": "stream",
          "name": "stdout",
          "text": [
            " * sqlite://\n",
            "Done.\n"
          ]
        },
        {
          "output_type": "execute_result",
          "data": {
            "text/plain": [
              "[(3, 1220.2), (2, 1799.01)]"
            ],
            "text/html": [
              "<table>\n",
              "    <thead>\n",
              "        <tr>\n",
              "            <th>author_id</th>\n",
              "            <th>sum</th>\n",
              "        </tr>\n",
              "    </thead>\n",
              "    <tbody>\n",
              "        <tr>\n",
              "            <td>3</td>\n",
              "            <td>1220.2</td>\n",
              "        </tr>\n",
              "        <tr>\n",
              "            <td>2</td>\n",
              "            <td>1799.01</td>\n",
              "        </tr>\n",
              "    </tbody>\n",
              "</table>"
            ]
          },
          "metadata": {},
          "execution_count": 21
        }
      ]
    },
    {
      "cell_type": "code",
      "source": [
        "%%sql\n",
        "\n",
        "SELECT *\n",
        "FROM book\n",
        "HAVING price > AVG(price);"
      ],
      "metadata": {
        "colab": {
          "base_uri": "https://localhost:8080/"
        },
        "id": "61CAHTC7eiFD",
        "outputId": "ace8c592-e670-4b3f-99e4-d925bfd4ffcd"
      },
      "execution_count": 22,
      "outputs": [
        {
          "output_type": "stream",
          "name": "stdout",
          "text": [
            " * sqlite://\n",
            "(sqlite3.OperationalError) a GROUP BY clause is required before HAVING\n",
            "[SQL: SELECT *\n",
            "FROM book\n",
            "HAVING price > AVG(price);]\n",
            "(Background on this error at: https://sqlalche.me/e/20/e3q8)\n"
          ]
        }
      ]
    },
    {
      "cell_type": "markdown",
      "source": [
        "В SQLite, как видно, нельзя использовать HAVING без GROUP BY :)\n",
        "\n",
        "Но, например, в PostgreSQL - можно"
      ],
      "metadata": {
        "id": "prkBaobjfG9F"
      }
    },
    {
      "cell_type": "markdown",
      "source": [
        "Посмотрим на пример применения всего выше изложенного. Найдём жанр, количество книг которого больше всего.\n",
        "\n",
        "Всем таблицам из подзапросов внутри FROM необходимо давать псевдоним"
      ],
      "metadata": {
        "id": "mcOTMNlgeEti"
      }
    },
    {
      "cell_type": "code",
      "source": [
        "%%sql\n",
        "\n",
        "SELECT genre_id,\n",
        "       SUM(amount) AS amount\n",
        "FROM book\n",
        "GROUP BY genre_id\n",
        "HAVING SUM(amount) = (\n",
        "    SELECT MAX(s)\n",
        "    FROM(\n",
        "        SELECT genre_id,\n",
        "        SUM(amount) AS s\n",
        "        FROM book\n",
        "        GROUP BY genre_id\n",
        "    ) AS sub_table\n",
        "\n",
        ");"
      ],
      "metadata": {
        "colab": {
          "base_uri": "https://localhost:8080/",
          "height": 95
        },
        "id": "AfmXTU59fJix",
        "outputId": "a6bca70e-0ce8-45cc-a5aa-7b3fe9c634e6"
      },
      "execution_count": 26,
      "outputs": [
        {
          "output_type": "stream",
          "name": "stdout",
          "text": [
            " * sqlite://\n",
            "Done.\n"
          ]
        },
        {
          "output_type": "execute_result",
          "data": {
            "text/plain": [
              "[(1, 31)]"
            ],
            "text/html": [
              "<table>\n",
              "    <thead>\n",
              "        <tr>\n",
              "            <th>genre_id</th>\n",
              "            <th>amount</th>\n",
              "        </tr>\n",
              "    </thead>\n",
              "    <tbody>\n",
              "        <tr>\n",
              "            <td>1</td>\n",
              "            <td>31</td>\n",
              "        </tr>\n",
              "    </tbody>\n",
              "</table>"
            ]
          },
          "metadata": {},
          "execution_count": 26
        }
      ]
    },
    {
      "cell_type": "markdown",
      "source": [
        "В этом запросе мы делаем запрос на сумму всех книг по каждому жанру, выбираем из него строку с максимальной суммой и в основном запросе, с помощью HAVING, делаем отбор по равенству с максимальной суммой  "
      ],
      "metadata": {
        "id": "Dqq7Sav-itLm"
      }
    },
    {
      "cell_type": "markdown",
      "source": [
        "Но здесь мы не знаем жанр книги, мы знаем только id жанра. Исправим это в параграфе \"Соединения таблиц\""
      ],
      "metadata": {
        "id": "LM7v3N1jfAkl"
      }
    },
    {
      "cell_type": "markdown",
      "source": [
        "# **Соединения таблиц**"
      ],
      "metadata": {
        "id": "74XJZ0nSejww"
      }
    },
    {
      "cell_type": "markdown",
      "source": [
        "Типы соединения:\n",
        "\n",
        "- [ INNER ] JOIN\n",
        "- LEFT [ OUTER ] JOIN\n",
        "- RIGHT [ OUTER ] JOIN (не поддерживается в SQLite)\n",
        "- CROSS JOIN (вместо этого можно писать таблицы через запятую)\n",
        "\n",
        "Работают они так: Рассматривают первую таблицу (всегда левая, кроме RIGHT JOIN), для каждой строки проверяется совпадение с каждой строкой второй таблицы. Если совпадение найдено, добавляется на вывод эта строка. Таких совпадений для одной строки из первой таблицы может быть несколько и, поэтому, будет выведено несколько строк. В общем, ниже всё есть ;)\n",
        "\n",
        "Рассмотрим их на примере ниже для новых таблиц, специально для этого созданных"
      ],
      "metadata": {
        "id": "ABCk_luwha-7"
      }
    },
    {
      "cell_type": "code",
      "source": [
        "%%sql\n",
        "\n",
        "CREATE TABLE one (\n",
        "    a INT\n",
        ");\n",
        "\n",
        "CREATE TABLE two (\n",
        "    b INT\n",
        ");\n",
        "\n",
        "\n",
        "INSERT INTO one(a)\n",
        "VALUES (1), (3), (2), (2), (NULL);\n",
        "\n",
        "INSERT INTO two(b)\n",
        "VALUES (1), (2), (NULL), (4), (2), (NULL);"
      ],
      "metadata": {
        "colab": {
          "base_uri": "https://localhost:8080/"
        },
        "id": "F3chaDjrfswn",
        "outputId": "9741bafd-fbb6-4aca-f49b-d9e75313d59d"
      },
      "execution_count": 28,
      "outputs": [
        {
          "output_type": "stream",
          "name": "stdout",
          "text": [
            " * sqlite://\n",
            "Done.\n",
            "Done.\n",
            "5 rows affected.\n",
            "6 rows affected.\n"
          ]
        },
        {
          "output_type": "execute_result",
          "data": {
            "text/plain": [
              "[]"
            ]
          },
          "metadata": {},
          "execution_count": 28
        }
      ]
    },
    {
      "cell_type": "code",
      "source": [
        "%%sql\n",
        "\n",
        "SELECT *\n",
        "FROM one INNER JOIN two ON a = b;"
      ],
      "metadata": {
        "colab": {
          "base_uri": "https://localhost:8080/",
          "height": 179
        },
        "id": "moCB0mHNl3ly",
        "outputId": "44707901-f36a-4cd4-c643-3fc385683738"
      },
      "execution_count": 29,
      "outputs": [
        {
          "output_type": "stream",
          "name": "stdout",
          "text": [
            " * sqlite://\n",
            "Done.\n"
          ]
        },
        {
          "output_type": "execute_result",
          "data": {
            "text/plain": [
              "[(1, 1), (2, 2), (2, 2), (2, 2), (2, 2)]"
            ],
            "text/html": [
              "<table>\n",
              "    <thead>\n",
              "        <tr>\n",
              "            <th>a</th>\n",
              "            <th>b</th>\n",
              "        </tr>\n",
              "    </thead>\n",
              "    <tbody>\n",
              "        <tr>\n",
              "            <td>1</td>\n",
              "            <td>1</td>\n",
              "        </tr>\n",
              "        <tr>\n",
              "            <td>2</td>\n",
              "            <td>2</td>\n",
              "        </tr>\n",
              "        <tr>\n",
              "            <td>2</td>\n",
              "            <td>2</td>\n",
              "        </tr>\n",
              "        <tr>\n",
              "            <td>2</td>\n",
              "            <td>2</td>\n",
              "        </tr>\n",
              "        <tr>\n",
              "            <td>2</td>\n",
              "            <td>2</td>\n",
              "        </tr>\n",
              "    </tbody>\n",
              "</table>"
            ]
          },
          "metadata": {},
          "execution_count": 29
        }
      ]
    },
    {
      "cell_type": "code",
      "source": [
        "%%sql\n",
        "\n",
        "SELECT *\n",
        "FROM one LEFT JOIN two ON a = b;"
      ],
      "metadata": {
        "colab": {
          "base_uri": "https://localhost:8080/",
          "height": 221
        },
        "id": "zAKH12VJmZfT",
        "outputId": "66b0d558-499e-46fb-fec5-314d21851433"
      },
      "execution_count": 30,
      "outputs": [
        {
          "output_type": "stream",
          "name": "stdout",
          "text": [
            " * sqlite://\n",
            "Done.\n"
          ]
        },
        {
          "output_type": "execute_result",
          "data": {
            "text/plain": [
              "[(1, 1), (3, None), (2, 2), (2, 2), (2, 2), (2, 2), (None, None)]"
            ],
            "text/html": [
              "<table>\n",
              "    <thead>\n",
              "        <tr>\n",
              "            <th>a</th>\n",
              "            <th>b</th>\n",
              "        </tr>\n",
              "    </thead>\n",
              "    <tbody>\n",
              "        <tr>\n",
              "            <td>1</td>\n",
              "            <td>1</td>\n",
              "        </tr>\n",
              "        <tr>\n",
              "            <td>3</td>\n",
              "            <td>None</td>\n",
              "        </tr>\n",
              "        <tr>\n",
              "            <td>2</td>\n",
              "            <td>2</td>\n",
              "        </tr>\n",
              "        <tr>\n",
              "            <td>2</td>\n",
              "            <td>2</td>\n",
              "        </tr>\n",
              "        <tr>\n",
              "            <td>2</td>\n",
              "            <td>2</td>\n",
              "        </tr>\n",
              "        <tr>\n",
              "            <td>2</td>\n",
              "            <td>2</td>\n",
              "        </tr>\n",
              "        <tr>\n",
              "            <td>None</td>\n",
              "            <td>None</td>\n",
              "        </tr>\n",
              "    </tbody>\n",
              "</table>"
            ]
          },
          "metadata": {},
          "execution_count": 30
        }
      ]
    },
    {
      "cell_type": "code",
      "source": [
        "%%sql\n",
        "\n",
        "SELECT *\n",
        "FROM two LEFT JOIN one ON a = b;"
      ],
      "metadata": {
        "colab": {
          "base_uri": "https://localhost:8080/",
          "height": 242
        },
        "id": "WFGBP9xwmdQj",
        "outputId": "2330785f-a301-4f7e-d63f-219f90c399a4"
      },
      "execution_count": 32,
      "outputs": [
        {
          "output_type": "stream",
          "name": "stdout",
          "text": [
            " * sqlite://\n",
            "Done.\n"
          ]
        },
        {
          "output_type": "execute_result",
          "data": {
            "text/plain": [
              "[(1, 1), (2, 2), (2, 2), (None, None), (4, None), (2, 2), (2, 2), (None, None)]"
            ],
            "text/html": [
              "<table>\n",
              "    <thead>\n",
              "        <tr>\n",
              "            <th>b</th>\n",
              "            <th>a</th>\n",
              "        </tr>\n",
              "    </thead>\n",
              "    <tbody>\n",
              "        <tr>\n",
              "            <td>1</td>\n",
              "            <td>1</td>\n",
              "        </tr>\n",
              "        <tr>\n",
              "            <td>2</td>\n",
              "            <td>2</td>\n",
              "        </tr>\n",
              "        <tr>\n",
              "            <td>2</td>\n",
              "            <td>2</td>\n",
              "        </tr>\n",
              "        <tr>\n",
              "            <td>None</td>\n",
              "            <td>None</td>\n",
              "        </tr>\n",
              "        <tr>\n",
              "            <td>4</td>\n",
              "            <td>None</td>\n",
              "        </tr>\n",
              "        <tr>\n",
              "            <td>2</td>\n",
              "            <td>2</td>\n",
              "        </tr>\n",
              "        <tr>\n",
              "            <td>2</td>\n",
              "            <td>2</td>\n",
              "        </tr>\n",
              "        <tr>\n",
              "            <td>None</td>\n",
              "            <td>None</td>\n",
              "        </tr>\n",
              "    </tbody>\n",
              "</table>"
            ]
          },
          "metadata": {},
          "execution_count": 32
        }
      ]
    },
    {
      "cell_type": "code",
      "source": [
        "%%sql\n",
        "\n",
        "SELECT *\n",
        "FROM one, two;"
      ],
      "metadata": {
        "colab": {
          "base_uri": "https://localhost:8080/",
          "height": 703
        },
        "id": "dEkB7rIamnmn",
        "outputId": "d8f79ff6-16c9-4e50-f95c-dd674fae7752"
      },
      "execution_count": 35,
      "outputs": [
        {
          "output_type": "stream",
          "name": "stdout",
          "text": [
            " * sqlite://\n",
            "Done.\n"
          ]
        },
        {
          "output_type": "execute_result",
          "data": {
            "text/plain": [
              "[(1, 1),\n",
              " (1, 2),\n",
              " (1, None),\n",
              " (1, 4),\n",
              " (1, 2),\n",
              " (1, None),\n",
              " (3, 1),\n",
              " (3, 2),\n",
              " (3, None),\n",
              " (3, 4),\n",
              " (3, 2),\n",
              " (3, None),\n",
              " (2, 1),\n",
              " (2, 2),\n",
              " (2, None),\n",
              " (2, 4),\n",
              " (2, 2),\n",
              " (2, None),\n",
              " (2, 1),\n",
              " (2, 2),\n",
              " (2, None),\n",
              " (2, 4),\n",
              " (2, 2),\n",
              " (2, None),\n",
              " (None, 1),\n",
              " (None, 2),\n",
              " (None, None),\n",
              " (None, 4),\n",
              " (None, 2),\n",
              " (None, None)]"
            ],
            "text/html": [
              "<table>\n",
              "    <thead>\n",
              "        <tr>\n",
              "            <th>a</th>\n",
              "            <th>b</th>\n",
              "        </tr>\n",
              "    </thead>\n",
              "    <tbody>\n",
              "        <tr>\n",
              "            <td>1</td>\n",
              "            <td>1</td>\n",
              "        </tr>\n",
              "        <tr>\n",
              "            <td>1</td>\n",
              "            <td>2</td>\n",
              "        </tr>\n",
              "        <tr>\n",
              "            <td>1</td>\n",
              "            <td>None</td>\n",
              "        </tr>\n",
              "        <tr>\n",
              "            <td>1</td>\n",
              "            <td>4</td>\n",
              "        </tr>\n",
              "        <tr>\n",
              "            <td>1</td>\n",
              "            <td>2</td>\n",
              "        </tr>\n",
              "        <tr>\n",
              "            <td>1</td>\n",
              "            <td>None</td>\n",
              "        </tr>\n",
              "        <tr>\n",
              "            <td>3</td>\n",
              "            <td>1</td>\n",
              "        </tr>\n",
              "        <tr>\n",
              "            <td>3</td>\n",
              "            <td>2</td>\n",
              "        </tr>\n",
              "        <tr>\n",
              "            <td>3</td>\n",
              "            <td>None</td>\n",
              "        </tr>\n",
              "        <tr>\n",
              "            <td>3</td>\n",
              "            <td>4</td>\n",
              "        </tr>\n",
              "        <tr>\n",
              "            <td>3</td>\n",
              "            <td>2</td>\n",
              "        </tr>\n",
              "        <tr>\n",
              "            <td>3</td>\n",
              "            <td>None</td>\n",
              "        </tr>\n",
              "        <tr>\n",
              "            <td>2</td>\n",
              "            <td>1</td>\n",
              "        </tr>\n",
              "        <tr>\n",
              "            <td>2</td>\n",
              "            <td>2</td>\n",
              "        </tr>\n",
              "        <tr>\n",
              "            <td>2</td>\n",
              "            <td>None</td>\n",
              "        </tr>\n",
              "        <tr>\n",
              "            <td>2</td>\n",
              "            <td>4</td>\n",
              "        </tr>\n",
              "        <tr>\n",
              "            <td>2</td>\n",
              "            <td>2</td>\n",
              "        </tr>\n",
              "        <tr>\n",
              "            <td>2</td>\n",
              "            <td>None</td>\n",
              "        </tr>\n",
              "        <tr>\n",
              "            <td>2</td>\n",
              "            <td>1</td>\n",
              "        </tr>\n",
              "        <tr>\n",
              "            <td>2</td>\n",
              "            <td>2</td>\n",
              "        </tr>\n",
              "        <tr>\n",
              "            <td>2</td>\n",
              "            <td>None</td>\n",
              "        </tr>\n",
              "        <tr>\n",
              "            <td>2</td>\n",
              "            <td>4</td>\n",
              "        </tr>\n",
              "        <tr>\n",
              "            <td>2</td>\n",
              "            <td>2</td>\n",
              "        </tr>\n",
              "        <tr>\n",
              "            <td>2</td>\n",
              "            <td>None</td>\n",
              "        </tr>\n",
              "        <tr>\n",
              "            <td>None</td>\n",
              "            <td>1</td>\n",
              "        </tr>\n",
              "        <tr>\n",
              "            <td>None</td>\n",
              "            <td>2</td>\n",
              "        </tr>\n",
              "        <tr>\n",
              "            <td>None</td>\n",
              "            <td>None</td>\n",
              "        </tr>\n",
              "        <tr>\n",
              "            <td>None</td>\n",
              "            <td>4</td>\n",
              "        </tr>\n",
              "        <tr>\n",
              "            <td>None</td>\n",
              "            <td>2</td>\n",
              "        </tr>\n",
              "        <tr>\n",
              "            <td>None</td>\n",
              "            <td>None</td>\n",
              "        </tr>\n",
              "    </tbody>\n",
              "</table>"
            ]
          },
          "metadata": {},
          "execution_count": 35
        }
      ]
    },
    {
      "cell_type": "code",
      "source": [
        "%%sql\n",
        "\n",
        "SELECT *,\n",
        "       COUNT(*) as '5*6 (len(a) * len(b))'\n",
        "FROM one, two;"
      ],
      "metadata": {
        "colab": {
          "base_uri": "https://localhost:8080/",
          "height": 95
        },
        "id": "mfRljjMZmzCS",
        "outputId": "35abe720-fc4d-4ece-fe14-6cc903dd671a"
      },
      "execution_count": 39,
      "outputs": [
        {
          "output_type": "stream",
          "name": "stdout",
          "text": [
            " * sqlite://\n",
            "Done.\n"
          ]
        },
        {
          "output_type": "execute_result",
          "data": {
            "text/plain": [
              "[(1, 1, 30)]"
            ],
            "text/html": [
              "<table>\n",
              "    <thead>\n",
              "        <tr>\n",
              "            <th>a</th>\n",
              "            <th>b</th>\n",
              "            <th>5*6 (len(a) * len(b))</th>\n",
              "        </tr>\n",
              "    </thead>\n",
              "    <tbody>\n",
              "        <tr>\n",
              "            <td>1</td>\n",
              "            <td>1</td>\n",
              "            <td>30</td>\n",
              "        </tr>\n",
              "    </tbody>\n",
              "</table>"
            ]
          },
          "metadata": {},
          "execution_count": 39
        }
      ]
    },
    {
      "cell_type": "markdown",
      "source": [
        "Теперь поправим последний длинный запрос из прошлого параграфа"
      ],
      "metadata": {
        "id": "RI5JiABCofP4"
      }
    },
    {
      "cell_type": "code",
      "source": [
        "%%sql\n",
        "\n",
        "SELECT name_genre,\n",
        "       SUM(amount) AS amount\n",
        "FROM book JOIN genre ON book.genre_id = genre.genre_id\n",
        "GROUP BY name_genre\n",
        "HAVING SUM(amount) = (\n",
        "    SELECT MAX(s)\n",
        "    FROM(\n",
        "        SELECT genre_id,\n",
        "        SUM(amount) AS s\n",
        "        FROM book\n",
        "        GROUP BY genre_id\n",
        "    ) AS sub_table\n",
        "\n",
        ");"
      ],
      "metadata": {
        "colab": {
          "base_uri": "https://localhost:8080/",
          "height": 95
        },
        "id": "kgaQfKRColC1",
        "outputId": "05e6b312-896a-47f4-c9f7-788fffc5ebce"
      },
      "execution_count": 42,
      "outputs": [
        {
          "output_type": "stream",
          "name": "stdout",
          "text": [
            " * sqlite://\n",
            "Done.\n"
          ]
        },
        {
          "output_type": "execute_result",
          "data": {
            "text/plain": [
              "[('Роман', 31)]"
            ],
            "text/html": [
              "<table>\n",
              "    <thead>\n",
              "        <tr>\n",
              "            <th>name_genre</th>\n",
              "            <th>amount</th>\n",
              "        </tr>\n",
              "    </thead>\n",
              "    <tbody>\n",
              "        <tr>\n",
              "            <td>Роман</td>\n",
              "            <td>31</td>\n",
              "        </tr>\n",
              "    </tbody>\n",
              "</table>"
            ]
          },
          "metadata": {},
          "execution_count": 42
        }
      ]
    },
    {
      "cell_type": "markdown",
      "source": [
        "Когда поля в разных таблицах называются одинаково, можно использовать USING()"
      ],
      "metadata": {
        "id": "DUo_FvklpinR"
      }
    },
    {
      "cell_type": "code",
      "source": [
        "%%sql\n",
        "\n",
        "SELECT name_genre,\n",
        "       SUM(amount) AS amount\n",
        "FROM book JOIN genre USING(genre_id)\n",
        "GROUP BY name_genre\n",
        "HAVING SUM(amount) = (\n",
        "    SELECT MAX(s)\n",
        "    FROM(\n",
        "        SELECT genre_id,\n",
        "        SUM(amount) AS s\n",
        "        FROM book\n",
        "        GROUP BY genre_id\n",
        "    ) AS sub_table\n",
        "\n",
        ");"
      ],
      "metadata": {
        "colab": {
          "base_uri": "https://localhost:8080/",
          "height": 95
        },
        "id": "RAWqj9m-ppak",
        "outputId": "9a76844d-8937-40c3-922e-e1e9e0b94760"
      },
      "execution_count": 43,
      "outputs": [
        {
          "output_type": "stream",
          "name": "stdout",
          "text": [
            " * sqlite://\n",
            "Done.\n"
          ]
        },
        {
          "output_type": "execute_result",
          "data": {
            "text/plain": [
              "[('Роман', 31)]"
            ],
            "text/html": [
              "<table>\n",
              "    <thead>\n",
              "        <tr>\n",
              "            <th>name_genre</th>\n",
              "            <th>amount</th>\n",
              "        </tr>\n",
              "    </thead>\n",
              "    <tbody>\n",
              "        <tr>\n",
              "            <td>Роман</td>\n",
              "            <td>31</td>\n",
              "        </tr>\n",
              "    </tbody>\n",
              "</table>"
            ]
          },
          "metadata": {},
          "execution_count": 43
        }
      ]
    },
    {
      "cell_type": "markdown",
      "source": [
        "Но этот запрос очень длинный и содержит 2 подзапроса и выглядит очень длинно. При больших объёмах данных это будет долго работать.\n",
        "\n",
        "Это можно исправить, используя оконные функции (смотри параграф ниже)"
      ],
      "metadata": {
        "id": "bDtnPQQku_0B"
      }
    },
    {
      "cell_type": "markdown",
      "source": [
        "Можно также помимо столбцов, пристыковывать строки. Для этого у таблиц должно запрашиваться одинаковое количество\n",
        "Для реализации пристыковки строк необходимо соединять запросы\n",
        "UNION соединит и удалит повторения\n",
        "UNION ALL соединит и НЕ удалит повторения"
      ],
      "metadata": {
        "id": "NPzhZNIWpuvU"
      }
    },
    {
      "cell_type": "code",
      "source": [
        "%%sql\n",
        "\n",
        "SELECT a\n",
        "FROM one\n",
        "WHERE a = 1\n",
        "\n",
        "UNION\n",
        "\n",
        "SELECT b\n",
        "FROM two\n",
        "WHERE b = 2"
      ],
      "metadata": {
        "colab": {
          "base_uri": "https://localhost:8080/",
          "height": 116
        },
        "id": "TdoDmt5tp16j",
        "outputId": "e2406b34-ed82-4dd3-91bf-6c9365307608"
      },
      "execution_count": 50,
      "outputs": [
        {
          "output_type": "stream",
          "name": "stdout",
          "text": [
            " * sqlite://\n",
            "Done.\n"
          ]
        },
        {
          "output_type": "execute_result",
          "data": {
            "text/plain": [
              "[(1,), (2,)]"
            ],
            "text/html": [
              "<table>\n",
              "    <thead>\n",
              "        <tr>\n",
              "            <th>a</th>\n",
              "        </tr>\n",
              "    </thead>\n",
              "    <tbody>\n",
              "        <tr>\n",
              "            <td>1</td>\n",
              "        </tr>\n",
              "        <tr>\n",
              "            <td>2</td>\n",
              "        </tr>\n",
              "    </tbody>\n",
              "</table>"
            ]
          },
          "metadata": {},
          "execution_count": 50
        }
      ]
    },
    {
      "cell_type": "code",
      "source": [
        "%%sql\n",
        "\n",
        "SELECT a\n",
        "FROM one\n",
        "WHERE a = 1\n",
        "\n",
        "UNION ALL\n",
        "\n",
        "SELECT b\n",
        "FROM two\n",
        "WHERE b = 2"
      ],
      "metadata": {
        "colab": {
          "base_uri": "https://localhost:8080/",
          "height": 137
        },
        "id": "Qu0Yb4d_qLi5",
        "outputId": "87fc58e5-9c79-4205-c6a3-bcab9a4203ab"
      },
      "execution_count": 52,
      "outputs": [
        {
          "output_type": "stream",
          "name": "stdout",
          "text": [
            " * sqlite://\n",
            "Done.\n"
          ]
        },
        {
          "output_type": "execute_result",
          "data": {
            "text/plain": [
              "[(1,), (2,), (2,)]"
            ],
            "text/html": [
              "<table>\n",
              "    <thead>\n",
              "        <tr>\n",
              "            <th>a</th>\n",
              "        </tr>\n",
              "    </thead>\n",
              "    <tbody>\n",
              "        <tr>\n",
              "            <td>1</td>\n",
              "        </tr>\n",
              "        <tr>\n",
              "            <td>2</td>\n",
              "        </tr>\n",
              "        <tr>\n",
              "            <td>2</td>\n",
              "        </tr>\n",
              "    </tbody>\n",
              "</table>"
            ]
          },
          "metadata": {},
          "execution_count": 52
        }
      ]
    },
    {
      "cell_type": "code",
      "source": [
        "%%sql\n",
        "\n",
        "ALTER TABLE one ADD COLUMN str1 VARCHAR(10) DEFAULT 'Hello A';\n",
        "ALTER TABLE two ADD COLUMN str2 VARCHAR(10) DEFAULT 'Hello B';\n",
        "\n",
        "SELECT *\n",
        "FROM one\n",
        "WHERE a = 1\n",
        "\n",
        "UNION ALL\n",
        "\n",
        "SELECT str2,\n",
        "       b\n",
        "FROM two\n",
        "WHERE b = 2;"
      ],
      "metadata": {
        "colab": {
          "base_uri": "https://localhost:8080/",
          "height": 172
        },
        "id": "8lFrxNparCZc",
        "outputId": "31178102-d61d-4456-e079-328dbe5ca153"
      },
      "execution_count": 53,
      "outputs": [
        {
          "output_type": "stream",
          "name": "stdout",
          "text": [
            " * sqlite://\n",
            "Done.\n",
            "Done.\n",
            "Done.\n"
          ]
        },
        {
          "output_type": "execute_result",
          "data": {
            "text/plain": [
              "[(1, 'Hello A'), ('Hello B', 2), ('Hello B', 2)]"
            ],
            "text/html": [
              "<table>\n",
              "    <thead>\n",
              "        <tr>\n",
              "            <th>a</th>\n",
              "            <th>str1</th>\n",
              "        </tr>\n",
              "    </thead>\n",
              "    <tbody>\n",
              "        <tr>\n",
              "            <td>1</td>\n",
              "            <td>Hello A</td>\n",
              "        </tr>\n",
              "        <tr>\n",
              "            <td>Hello B</td>\n",
              "            <td>2</td>\n",
              "        </tr>\n",
              "        <tr>\n",
              "            <td>Hello B</td>\n",
              "            <td>2</td>\n",
              "        </tr>\n",
              "    </tbody>\n",
              "</table>"
            ]
          },
          "metadata": {},
          "execution_count": 53
        }
      ]
    },
    {
      "cell_type": "markdown",
      "source": [
        "В ячейке выше оператор DEFAULT отвечает за значение по умолчанию"
      ],
      "metadata": {
        "id": "ZvRt6qEHsCar"
      }
    },
    {
      "cell_type": "markdown",
      "source": [
        "# **Оконные функции**"
      ],
      "metadata": {
        "id": "z5_0GEMOsWOG"
      }
    },
    {
      "cell_type": "markdown",
      "source": [
        "Синтаксис такой: OVER([ PARTITION BY ] ... [ ORDER BY ] ...)"
      ],
      "metadata": {
        "id": "ZJawijidsaB5"
      }
    },
    {
      "cell_type": "markdown",
      "source": [
        "Оператор LIMIT задаёт количество строк, которые будут выведены.\n",
        "\n",
        "Оператор OFFSET задаёт номер строки такой, что будут выведены все строки, начиная со следующей. По умолчанию его значение 0.\n",
        "\n",
        "Эти операторы можно комбинировать. Например, если мы хотим только десятую строку из таблицы, то в конце запроса нужно написать следующее:\n",
        "\n",
        "LIMIT 1 OFFSET 9"
      ],
      "metadata": {
        "id": "9bv1d8isuYm6"
      }
    },
    {
      "cell_type": "markdown",
      "source": [],
      "metadata": {
        "id": "MBXDGKjEu9EE"
      }
    },
    {
      "cell_type": "code",
      "source": [
        "%%sql\n",
        "\n",
        "SELECT name_genre,\n",
        "       SUM(amount) OVER(PARTITION BY name_genre) AS amount\n",
        "FROM book JOIN genre ON book.genre_id = genre.genre_id\n",
        "ORDER BY 2 DESC\n",
        "LIMIT 1;"
      ],
      "metadata": {
        "colab": {
          "base_uri": "https://localhost:8080/",
          "height": 95
        },
        "id": "EhZWhwYGskKh",
        "outputId": "19ce99d7-6377-486a-cc61-79e141dc3165"
      },
      "execution_count": 56,
      "outputs": [
        {
          "output_type": "stream",
          "name": "stdout",
          "text": [
            " * sqlite://\n",
            "Done.\n"
          ]
        },
        {
          "output_type": "execute_result",
          "data": {
            "text/plain": [
              "[('Роман', 31)]"
            ],
            "text/html": [
              "<table>\n",
              "    <thead>\n",
              "        <tr>\n",
              "            <th>name_genre</th>\n",
              "            <th>amount</th>\n",
              "        </tr>\n",
              "    </thead>\n",
              "    <tbody>\n",
              "        <tr>\n",
              "            <td>Роман</td>\n",
              "            <td>31</td>\n",
              "        </tr>\n",
              "    </tbody>\n",
              "</table>"
            ]
          },
          "metadata": {},
          "execution_count": 56
        }
      ]
    },
    {
      "cell_type": "markdown",
      "source": [
        "Теперь запрос выглядит приятнее и по-человечески)"
      ],
      "metadata": {
        "id": "4npvsjWmvbxQ"
      }
    },
    {
      "cell_type": "markdown",
      "source": [
        "Рассмотрим остальные оконные функции"
      ],
      "metadata": {
        "id": "Oq73xr64vjFm"
      }
    },
    {
      "cell_type": "code",
      "source": [
        "%%sql\n",
        "\n",
        "SELECT name_author,\n",
        "       ROW_NUMBER() OVER() AS w\n",
        "FROM book JOIN author USING(author_id)"
      ],
      "metadata": {
        "colab": {
          "base_uri": "https://localhost:8080/",
          "height": 242
        },
        "id": "LluQTTRAvokJ",
        "outputId": "98d03d18-9231-49ec-c253-2f6debf22f75"
      },
      "execution_count": 58,
      "outputs": [
        {
          "output_type": "stream",
          "name": "stdout",
          "text": [
            " * sqlite://\n",
            "Done.\n"
          ]
        },
        {
          "output_type": "execute_result",
          "data": {
            "text/plain": [
              "[('Булгаков М.А.', 1),\n",
              " ('Булгаков М.А.', 2),\n",
              " ('Достоевский Ф.М.', 3),\n",
              " ('Достоевский Ф.М.', 4),\n",
              " ('Достоевский Ф.М.', 5),\n",
              " ('Есенин С.А.', 6),\n",
              " ('Есенин С.А.', 7),\n",
              " ('Пастернак Б.Л.', 8)]"
            ],
            "text/html": [
              "<table>\n",
              "    <thead>\n",
              "        <tr>\n",
              "            <th>name_author</th>\n",
              "            <th>w</th>\n",
              "        </tr>\n",
              "    </thead>\n",
              "    <tbody>\n",
              "        <tr>\n",
              "            <td>Булгаков М.А.</td>\n",
              "            <td>1</td>\n",
              "        </tr>\n",
              "        <tr>\n",
              "            <td>Булгаков М.А.</td>\n",
              "            <td>2</td>\n",
              "        </tr>\n",
              "        <tr>\n",
              "            <td>Достоевский Ф.М.</td>\n",
              "            <td>3</td>\n",
              "        </tr>\n",
              "        <tr>\n",
              "            <td>Достоевский Ф.М.</td>\n",
              "            <td>4</td>\n",
              "        </tr>\n",
              "        <tr>\n",
              "            <td>Достоевский Ф.М.</td>\n",
              "            <td>5</td>\n",
              "        </tr>\n",
              "        <tr>\n",
              "            <td>Есенин С.А.</td>\n",
              "            <td>6</td>\n",
              "        </tr>\n",
              "        <tr>\n",
              "            <td>Есенин С.А.</td>\n",
              "            <td>7</td>\n",
              "        </tr>\n",
              "        <tr>\n",
              "            <td>Пастернак Б.Л.</td>\n",
              "            <td>8</td>\n",
              "        </tr>\n",
              "    </tbody>\n",
              "</table>"
            ]
          },
          "metadata": {},
          "execution_count": 58
        }
      ]
    },
    {
      "cell_type": "code",
      "source": [
        "%%sql\n",
        "\n",
        "SELECT name_author,\n",
        "       ROW_NUMBER() OVER(PARTITION BY name_author) AS w\n",
        "FROM book JOIN author USING(author_id)"
      ],
      "metadata": {
        "colab": {
          "base_uri": "https://localhost:8080/",
          "height": 242
        },
        "id": "yVMifqsOxtH5",
        "outputId": "25acc867-e05c-4c05-e153-609d8eb2b468"
      },
      "execution_count": 59,
      "outputs": [
        {
          "output_type": "stream",
          "name": "stdout",
          "text": [
            " * sqlite://\n",
            "Done.\n"
          ]
        },
        {
          "output_type": "execute_result",
          "data": {
            "text/plain": [
              "[('Булгаков М.А.', 1),\n",
              " ('Булгаков М.А.', 2),\n",
              " ('Достоевский Ф.М.', 1),\n",
              " ('Достоевский Ф.М.', 2),\n",
              " ('Достоевский Ф.М.', 3),\n",
              " ('Есенин С.А.', 1),\n",
              " ('Есенин С.А.', 2),\n",
              " ('Пастернак Б.Л.', 1)]"
            ],
            "text/html": [
              "<table>\n",
              "    <thead>\n",
              "        <tr>\n",
              "            <th>name_author</th>\n",
              "            <th>w</th>\n",
              "        </tr>\n",
              "    </thead>\n",
              "    <tbody>\n",
              "        <tr>\n",
              "            <td>Булгаков М.А.</td>\n",
              "            <td>1</td>\n",
              "        </tr>\n",
              "        <tr>\n",
              "            <td>Булгаков М.А.</td>\n",
              "            <td>2</td>\n",
              "        </tr>\n",
              "        <tr>\n",
              "            <td>Достоевский Ф.М.</td>\n",
              "            <td>1</td>\n",
              "        </tr>\n",
              "        <tr>\n",
              "            <td>Достоевский Ф.М.</td>\n",
              "            <td>2</td>\n",
              "        </tr>\n",
              "        <tr>\n",
              "            <td>Достоевский Ф.М.</td>\n",
              "            <td>3</td>\n",
              "        </tr>\n",
              "        <tr>\n",
              "            <td>Есенин С.А.</td>\n",
              "            <td>1</td>\n",
              "        </tr>\n",
              "        <tr>\n",
              "            <td>Есенин С.А.</td>\n",
              "            <td>2</td>\n",
              "        </tr>\n",
              "        <tr>\n",
              "            <td>Пастернак Б.Л.</td>\n",
              "            <td>1</td>\n",
              "        </tr>\n",
              "    </tbody>\n",
              "</table>"
            ]
          },
          "metadata": {},
          "execution_count": 59
        }
      ]
    },
    {
      "cell_type": "markdown",
      "source": [
        "Для функций RANK() и DENSE_RANK() необходимо использование ORDER BY внутри OVER().\n",
        "\n",
        "Иначе получится столбец единичек"
      ],
      "metadata": {
        "id": "_CXnYWMnzxU4"
      }
    },
    {
      "cell_type": "code",
      "source": [
        "%%sql\n",
        "\n",
        "SELECT name_author,\n",
        "       RANK() OVER(ORDER BY name_author ASC) AS w\n",
        "FROM book JOIN author USING(author_id)"
      ],
      "metadata": {
        "colab": {
          "base_uri": "https://localhost:8080/",
          "height": 242
        },
        "id": "clWlXVkuxzcx",
        "outputId": "3fb580d6-ec6b-4251-e0f6-ec61c996909a"
      },
      "execution_count": 68,
      "outputs": [
        {
          "output_type": "stream",
          "name": "stdout",
          "text": [
            " * sqlite://\n",
            "Done.\n"
          ]
        },
        {
          "output_type": "execute_result",
          "data": {
            "text/plain": [
              "[('Булгаков М.А.', 1),\n",
              " ('Булгаков М.А.', 1),\n",
              " ('Достоевский Ф.М.', 3),\n",
              " ('Достоевский Ф.М.', 3),\n",
              " ('Достоевский Ф.М.', 3),\n",
              " ('Есенин С.А.', 6),\n",
              " ('Есенин С.А.', 6),\n",
              " ('Пастернак Б.Л.', 8)]"
            ],
            "text/html": [
              "<table>\n",
              "    <thead>\n",
              "        <tr>\n",
              "            <th>name_author</th>\n",
              "            <th>w</th>\n",
              "        </tr>\n",
              "    </thead>\n",
              "    <tbody>\n",
              "        <tr>\n",
              "            <td>Булгаков М.А.</td>\n",
              "            <td>1</td>\n",
              "        </tr>\n",
              "        <tr>\n",
              "            <td>Булгаков М.А.</td>\n",
              "            <td>1</td>\n",
              "        </tr>\n",
              "        <tr>\n",
              "            <td>Достоевский Ф.М.</td>\n",
              "            <td>3</td>\n",
              "        </tr>\n",
              "        <tr>\n",
              "            <td>Достоевский Ф.М.</td>\n",
              "            <td>3</td>\n",
              "        </tr>\n",
              "        <tr>\n",
              "            <td>Достоевский Ф.М.</td>\n",
              "            <td>3</td>\n",
              "        </tr>\n",
              "        <tr>\n",
              "            <td>Есенин С.А.</td>\n",
              "            <td>6</td>\n",
              "        </tr>\n",
              "        <tr>\n",
              "            <td>Есенин С.А.</td>\n",
              "            <td>6</td>\n",
              "        </tr>\n",
              "        <tr>\n",
              "            <td>Пастернак Б.Л.</td>\n",
              "            <td>8</td>\n",
              "        </tr>\n",
              "    </tbody>\n",
              "</table>"
            ]
          },
          "metadata": {},
          "execution_count": 68
        }
      ]
    },
    {
      "cell_type": "code",
      "source": [
        "%%sql\n",
        "\n",
        "SELECT name_author,\n",
        "       DENSE_RANK() OVER(ORDER BY name_author ASC) AS w\n",
        "FROM book JOIN author USING(author_id)"
      ],
      "metadata": {
        "colab": {
          "base_uri": "https://localhost:8080/",
          "height": 242
        },
        "id": "r18SXiPr0ARe",
        "outputId": "18a7a8d4-4e41-43de-c1fa-246f45f75356"
      },
      "execution_count": 69,
      "outputs": [
        {
          "output_type": "stream",
          "name": "stdout",
          "text": [
            " * sqlite://\n",
            "Done.\n"
          ]
        },
        {
          "output_type": "execute_result",
          "data": {
            "text/plain": [
              "[('Булгаков М.А.', 1),\n",
              " ('Булгаков М.А.', 1),\n",
              " ('Достоевский Ф.М.', 2),\n",
              " ('Достоевский Ф.М.', 2),\n",
              " ('Достоевский Ф.М.', 2),\n",
              " ('Есенин С.А.', 3),\n",
              " ('Есенин С.А.', 3),\n",
              " ('Пастернак Б.Л.', 4)]"
            ],
            "text/html": [
              "<table>\n",
              "    <thead>\n",
              "        <tr>\n",
              "            <th>name_author</th>\n",
              "            <th>w</th>\n",
              "        </tr>\n",
              "    </thead>\n",
              "    <tbody>\n",
              "        <tr>\n",
              "            <td>Булгаков М.А.</td>\n",
              "            <td>1</td>\n",
              "        </tr>\n",
              "        <tr>\n",
              "            <td>Булгаков М.А.</td>\n",
              "            <td>1</td>\n",
              "        </tr>\n",
              "        <tr>\n",
              "            <td>Достоевский Ф.М.</td>\n",
              "            <td>2</td>\n",
              "        </tr>\n",
              "        <tr>\n",
              "            <td>Достоевский Ф.М.</td>\n",
              "            <td>2</td>\n",
              "        </tr>\n",
              "        <tr>\n",
              "            <td>Достоевский Ф.М.</td>\n",
              "            <td>2</td>\n",
              "        </tr>\n",
              "        <tr>\n",
              "            <td>Есенин С.А.</td>\n",
              "            <td>3</td>\n",
              "        </tr>\n",
              "        <tr>\n",
              "            <td>Есенин С.А.</td>\n",
              "            <td>3</td>\n",
              "        </tr>\n",
              "        <tr>\n",
              "            <td>Пастернак Б.Л.</td>\n",
              "            <td>4</td>\n",
              "        </tr>\n",
              "    </tbody>\n",
              "</table>"
            ]
          },
          "metadata": {},
          "execution_count": 69
        }
      ]
    },
    {
      "cell_type": "markdown",
      "source": [
        "Теперь добавим немного \"смысла\" от употребления оконных функций и будем ранжировать строки отдельно внутри каждого жанра по имени автора"
      ],
      "metadata": {
        "id": "PK_hSe6e0kX9"
      }
    },
    {
      "cell_type": "code",
      "source": [
        "%%sql\n",
        "\n",
        "SELECT name_author,\n",
        "       name_genre,\n",
        "       RANK() OVER(PARTITION BY genre_id ORDER BY name_author ASC) AS w\n",
        "FROM genre JOIN book USING(genre_id) JOIN author USING(author_id)"
      ],
      "metadata": {
        "colab": {
          "base_uri": "https://localhost:8080/",
          "height": 242
        },
        "id": "IchOvenN0MXu",
        "outputId": "6c797b7c-5c03-4031-b399-d20e9b5e7de6"
      },
      "execution_count": 70,
      "outputs": [
        {
          "output_type": "stream",
          "name": "stdout",
          "text": [
            " * sqlite://\n",
            "Done.\n"
          ]
        },
        {
          "output_type": "execute_result",
          "data": {
            "text/plain": [
              "[('Булгаков М.А.', 'Роман', 1),\n",
              " ('Булгаков М.А.', 'Роман', 1),\n",
              " ('Достоевский Ф.М.', 'Роман', 3),\n",
              " ('Достоевский Ф.М.', 'Роман', 3),\n",
              " ('Достоевский Ф.М.', 'Роман', 3),\n",
              " ('Есенин С.А.', 'Поэзия', 1),\n",
              " ('Есенин С.А.', 'Поэзия', 1),\n",
              " ('Пастернак Б.Л.', 'Поэзия', 3)]"
            ],
            "text/html": [
              "<table>\n",
              "    <thead>\n",
              "        <tr>\n",
              "            <th>name_author</th>\n",
              "            <th>name_genre</th>\n",
              "            <th>w</th>\n",
              "        </tr>\n",
              "    </thead>\n",
              "    <tbody>\n",
              "        <tr>\n",
              "            <td>Булгаков М.А.</td>\n",
              "            <td>Роман</td>\n",
              "            <td>1</td>\n",
              "        </tr>\n",
              "        <tr>\n",
              "            <td>Булгаков М.А.</td>\n",
              "            <td>Роман</td>\n",
              "            <td>1</td>\n",
              "        </tr>\n",
              "        <tr>\n",
              "            <td>Достоевский Ф.М.</td>\n",
              "            <td>Роман</td>\n",
              "            <td>3</td>\n",
              "        </tr>\n",
              "        <tr>\n",
              "            <td>Достоевский Ф.М.</td>\n",
              "            <td>Роман</td>\n",
              "            <td>3</td>\n",
              "        </tr>\n",
              "        <tr>\n",
              "            <td>Достоевский Ф.М.</td>\n",
              "            <td>Роман</td>\n",
              "            <td>3</td>\n",
              "        </tr>\n",
              "        <tr>\n",
              "            <td>Есенин С.А.</td>\n",
              "            <td>Поэзия</td>\n",
              "            <td>1</td>\n",
              "        </tr>\n",
              "        <tr>\n",
              "            <td>Есенин С.А.</td>\n",
              "            <td>Поэзия</td>\n",
              "            <td>1</td>\n",
              "        </tr>\n",
              "        <tr>\n",
              "            <td>Пастернак Б.Л.</td>\n",
              "            <td>Поэзия</td>\n",
              "            <td>3</td>\n",
              "        </tr>\n",
              "    </tbody>\n",
              "</table>"
            ]
          },
          "metadata": {},
          "execution_count": 70
        }
      ]
    },
    {
      "cell_type": "code",
      "source": [
        "%%sql\n",
        "\n",
        "SELECT name_author,\n",
        "       name_genre,\n",
        "       DENSE_RANK() OVER(PARTITION BY genre_id ORDER BY name_author ASC) AS w\n",
        "FROM genre JOIN book USING(genre_id) JOIN author USING(author_id)"
      ],
      "metadata": {
        "colab": {
          "base_uri": "https://localhost:8080/",
          "height": 242
        },
        "id": "FYpym5kR0ceq",
        "outputId": "10fef3b5-f300-4c8e-d054-9a4d13f70e12"
      },
      "execution_count": 71,
      "outputs": [
        {
          "output_type": "stream",
          "name": "stdout",
          "text": [
            " * sqlite://\n",
            "Done.\n"
          ]
        },
        {
          "output_type": "execute_result",
          "data": {
            "text/plain": [
              "[('Булгаков М.А.', 'Роман', 1),\n",
              " ('Булгаков М.А.', 'Роман', 1),\n",
              " ('Достоевский Ф.М.', 'Роман', 2),\n",
              " ('Достоевский Ф.М.', 'Роман', 2),\n",
              " ('Достоевский Ф.М.', 'Роман', 2),\n",
              " ('Есенин С.А.', 'Поэзия', 1),\n",
              " ('Есенин С.А.', 'Поэзия', 1),\n",
              " ('Пастернак Б.Л.', 'Поэзия', 2)]"
            ],
            "text/html": [
              "<table>\n",
              "    <thead>\n",
              "        <tr>\n",
              "            <th>name_author</th>\n",
              "            <th>name_genre</th>\n",
              "            <th>w</th>\n",
              "        </tr>\n",
              "    </thead>\n",
              "    <tbody>\n",
              "        <tr>\n",
              "            <td>Булгаков М.А.</td>\n",
              "            <td>Роман</td>\n",
              "            <td>1</td>\n",
              "        </tr>\n",
              "        <tr>\n",
              "            <td>Булгаков М.А.</td>\n",
              "            <td>Роман</td>\n",
              "            <td>1</td>\n",
              "        </tr>\n",
              "        <tr>\n",
              "            <td>Достоевский Ф.М.</td>\n",
              "            <td>Роман</td>\n",
              "            <td>2</td>\n",
              "        </tr>\n",
              "        <tr>\n",
              "            <td>Достоевский Ф.М.</td>\n",
              "            <td>Роман</td>\n",
              "            <td>2</td>\n",
              "        </tr>\n",
              "        <tr>\n",
              "            <td>Достоевский Ф.М.</td>\n",
              "            <td>Роман</td>\n",
              "            <td>2</td>\n",
              "        </tr>\n",
              "        <tr>\n",
              "            <td>Есенин С.А.</td>\n",
              "            <td>Поэзия</td>\n",
              "            <td>1</td>\n",
              "        </tr>\n",
              "        <tr>\n",
              "            <td>Есенин С.А.</td>\n",
              "            <td>Поэзия</td>\n",
              "            <td>1</td>\n",
              "        </tr>\n",
              "        <tr>\n",
              "            <td>Пастернак Б.Л.</td>\n",
              "            <td>Поэзия</td>\n",
              "            <td>2</td>\n",
              "        </tr>\n",
              "    </tbody>\n",
              "</table>"
            ]
          },
          "metadata": {},
          "execution_count": 71
        }
      ]
    },
    {
      "cell_type": "code",
      "source": [
        "%%sql\n",
        "\n",
        "SELECT name_author,\n",
        "       name_genre,\n",
        "       ROW_NUMBER() OVER(PARTITION BY genre_id ORDER BY name_author ASC) AS w\n",
        "FROM genre JOIN book USING(genre_id) JOIN author USING(author_id)"
      ],
      "metadata": {
        "colab": {
          "base_uri": "https://localhost:8080/",
          "height": 242
        },
        "id": "bAoLT4In08lm",
        "outputId": "4d235087-4afd-4d4b-d155-27d2b786bfb2"
      },
      "execution_count": 72,
      "outputs": [
        {
          "output_type": "stream",
          "name": "stdout",
          "text": [
            " * sqlite://\n",
            "Done.\n"
          ]
        },
        {
          "output_type": "execute_result",
          "data": {
            "text/plain": [
              "[('Булгаков М.А.', 'Роман', 1),\n",
              " ('Булгаков М.А.', 'Роман', 2),\n",
              " ('Достоевский Ф.М.', 'Роман', 3),\n",
              " ('Достоевский Ф.М.', 'Роман', 4),\n",
              " ('Достоевский Ф.М.', 'Роман', 5),\n",
              " ('Есенин С.А.', 'Поэзия', 1),\n",
              " ('Есенин С.А.', 'Поэзия', 2),\n",
              " ('Пастернак Б.Л.', 'Поэзия', 3)]"
            ],
            "text/html": [
              "<table>\n",
              "    <thead>\n",
              "        <tr>\n",
              "            <th>name_author</th>\n",
              "            <th>name_genre</th>\n",
              "            <th>w</th>\n",
              "        </tr>\n",
              "    </thead>\n",
              "    <tbody>\n",
              "        <tr>\n",
              "            <td>Булгаков М.А.</td>\n",
              "            <td>Роман</td>\n",
              "            <td>1</td>\n",
              "        </tr>\n",
              "        <tr>\n",
              "            <td>Булгаков М.А.</td>\n",
              "            <td>Роман</td>\n",
              "            <td>2</td>\n",
              "        </tr>\n",
              "        <tr>\n",
              "            <td>Достоевский Ф.М.</td>\n",
              "            <td>Роман</td>\n",
              "            <td>3</td>\n",
              "        </tr>\n",
              "        <tr>\n",
              "            <td>Достоевский Ф.М.</td>\n",
              "            <td>Роман</td>\n",
              "            <td>4</td>\n",
              "        </tr>\n",
              "        <tr>\n",
              "            <td>Достоевский Ф.М.</td>\n",
              "            <td>Роман</td>\n",
              "            <td>5</td>\n",
              "        </tr>\n",
              "        <tr>\n",
              "            <td>Есенин С.А.</td>\n",
              "            <td>Поэзия</td>\n",
              "            <td>1</td>\n",
              "        </tr>\n",
              "        <tr>\n",
              "            <td>Есенин С.А.</td>\n",
              "            <td>Поэзия</td>\n",
              "            <td>2</td>\n",
              "        </tr>\n",
              "        <tr>\n",
              "            <td>Пастернак Б.Л.</td>\n",
              "            <td>Поэзия</td>\n",
              "            <td>3</td>\n",
              "        </tr>\n",
              "    </tbody>\n",
              "</table>"
            ]
          },
          "metadata": {},
          "execution_count": 72
        }
      ]
    },
    {
      "cell_type": "markdown",
      "source": [
        "LAG() - возвращает предыдущее значение\n",
        "\n",
        "LEAD() - возвращает следующее значение"
      ],
      "metadata": {
        "id": "l-oQlTc41CeR"
      }
    },
    {
      "cell_type": "code",
      "source": [
        "%%sql\n",
        "\n",
        "SELECT title,\n",
        "       price,\n",
        "       LAG(price) OVER() as prev,\n",
        "       LEAD(price) OVER() as next\n",
        "FROM book"
      ],
      "metadata": {
        "colab": {
          "base_uri": "https://localhost:8080/",
          "height": 242
        },
        "id": "OVKvaMB11Yd_",
        "outputId": "8ee9e911-e2c5-498c-b6c2-4f850a01cd30"
      },
      "execution_count": 76,
      "outputs": [
        {
          "output_type": "stream",
          "name": "stdout",
          "text": [
            " * sqlite://\n",
            "Done.\n"
          ]
        },
        {
          "output_type": "execute_result",
          "data": {
            "text/plain": [
              "[('Мастер и Маргарита', 670.99, None, 540.5),\n",
              " ('Белая гвардия ', 540.5, 670.99, 500),\n",
              " ('Идиот', 500, 540.5, 799.01),\n",
              " ('Братья Карамазовы', 799.01, 500, 500),\n",
              " ('Игрок', 500, 799.01, 650),\n",
              " ('Стихотворения и поэмы', 650, 500, 570.2),\n",
              " ('Черный человек', 570.2, 650, 518.99),\n",
              " ('Лирика', 518.99, 570.2, None)]"
            ],
            "text/html": [
              "<table>\n",
              "    <thead>\n",
              "        <tr>\n",
              "            <th>title</th>\n",
              "            <th>price</th>\n",
              "            <th>prev</th>\n",
              "            <th>next</th>\n",
              "        </tr>\n",
              "    </thead>\n",
              "    <tbody>\n",
              "        <tr>\n",
              "            <td>Мастер и Маргарита</td>\n",
              "            <td>670.99</td>\n",
              "            <td>None</td>\n",
              "            <td>540.5</td>\n",
              "        </tr>\n",
              "        <tr>\n",
              "            <td>Белая гвардия </td>\n",
              "            <td>540.5</td>\n",
              "            <td>670.99</td>\n",
              "            <td>500</td>\n",
              "        </tr>\n",
              "        <tr>\n",
              "            <td>Идиот</td>\n",
              "            <td>500</td>\n",
              "            <td>540.5</td>\n",
              "            <td>799.01</td>\n",
              "        </tr>\n",
              "        <tr>\n",
              "            <td>Братья Карамазовы</td>\n",
              "            <td>799.01</td>\n",
              "            <td>500</td>\n",
              "            <td>500</td>\n",
              "        </tr>\n",
              "        <tr>\n",
              "            <td>Игрок</td>\n",
              "            <td>500</td>\n",
              "            <td>799.01</td>\n",
              "            <td>650</td>\n",
              "        </tr>\n",
              "        <tr>\n",
              "            <td>Стихотворения и поэмы</td>\n",
              "            <td>650</td>\n",
              "            <td>500</td>\n",
              "            <td>570.2</td>\n",
              "        </tr>\n",
              "        <tr>\n",
              "            <td>Черный человек</td>\n",
              "            <td>570.2</td>\n",
              "            <td>650</td>\n",
              "            <td>518.99</td>\n",
              "        </tr>\n",
              "        <tr>\n",
              "            <td>Лирика</td>\n",
              "            <td>518.99</td>\n",
              "            <td>570.2</td>\n",
              "            <td>None</td>\n",
              "        </tr>\n",
              "    </tbody>\n",
              "</table>"
            ]
          },
          "metadata": {},
          "execution_count": 76
        }
      ]
    },
    {
      "cell_type": "markdown",
      "source": [
        "Решим (внезапно) такую задачу: В нашем книжном магазине появилась таблица логов о времени покупки книги (в секундах).\n",
        "\n",
        "Определим сессию покупок как интервал времени, в течение которого разница между последовательными покупками покупателя не превышает 30 минут.\n",
        "\n",
        "Необходимо посчитать количество сессий для каждого покупателя."
      ],
      "metadata": {
        "id": "H2RScH223AW5"
      }
    },
    {
      "cell_type": "code",
      "source": [
        "%%sql\n",
        "\n",
        "DROP TABLE IF EXISTS logs;\n",
        "\n",
        "CREATE TABLE IF NOT EXISTS logs(\n",
        "    user_id STRING,\n",
        "    time INTEGER\n",
        ");\n",
        "\n",
        "INSERT INTO logs(user_id, time)\n",
        "VALUES ('u1', 0),\n",
        "       ('u1', 20),\n",
        "       ('u2', 30),\n",
        "       ('u2', 40),\n",
        "       ('u1', 40),\n",
        "       ('u1', 60),\n",
        "       ('u2', 65),\n",
        "       ('u1', 80),\n",
        "       ('u1', 130),\n",
        "       ('u1', 150),\n",
        "       ('u1', 200);\n",
        "\n",
        "SELECT *\n",
        "FROM logs;"
      ],
      "metadata": {
        "colab": {
          "base_uri": "https://localhost:8080/",
          "height": 357
        },
        "id": "npObi4823f9I",
        "outputId": "025d060e-357b-496f-9ef2-e2adba1312b6"
      },
      "execution_count": 82,
      "outputs": [
        {
          "output_type": "stream",
          "name": "stdout",
          "text": [
            " * sqlite://\n",
            "Done.\n",
            "Done.\n",
            "11 rows affected.\n",
            "Done.\n"
          ]
        },
        {
          "output_type": "execute_result",
          "data": {
            "text/plain": [
              "[('u1', 0),\n",
              " ('u1', 20),\n",
              " ('u2', 30),\n",
              " ('u2', 40),\n",
              " ('u1', 40),\n",
              " ('u1', 60),\n",
              " ('u2', 65),\n",
              " ('u1', 80),\n",
              " ('u1', 130),\n",
              " ('u1', 150),\n",
              " ('u1', 200)]"
            ],
            "text/html": [
              "<table>\n",
              "    <thead>\n",
              "        <tr>\n",
              "            <th>user_id</th>\n",
              "            <th>time</th>\n",
              "        </tr>\n",
              "    </thead>\n",
              "    <tbody>\n",
              "        <tr>\n",
              "            <td>u1</td>\n",
              "            <td>0</td>\n",
              "        </tr>\n",
              "        <tr>\n",
              "            <td>u1</td>\n",
              "            <td>20</td>\n",
              "        </tr>\n",
              "        <tr>\n",
              "            <td>u2</td>\n",
              "            <td>30</td>\n",
              "        </tr>\n",
              "        <tr>\n",
              "            <td>u2</td>\n",
              "            <td>40</td>\n",
              "        </tr>\n",
              "        <tr>\n",
              "            <td>u1</td>\n",
              "            <td>40</td>\n",
              "        </tr>\n",
              "        <tr>\n",
              "            <td>u1</td>\n",
              "            <td>60</td>\n",
              "        </tr>\n",
              "        <tr>\n",
              "            <td>u2</td>\n",
              "            <td>65</td>\n",
              "        </tr>\n",
              "        <tr>\n",
              "            <td>u1</td>\n",
              "            <td>80</td>\n",
              "        </tr>\n",
              "        <tr>\n",
              "            <td>u1</td>\n",
              "            <td>130</td>\n",
              "        </tr>\n",
              "        <tr>\n",
              "            <td>u1</td>\n",
              "            <td>150</td>\n",
              "        </tr>\n",
              "        <tr>\n",
              "            <td>u1</td>\n",
              "            <td>200</td>\n",
              "        </tr>\n",
              "    </tbody>\n",
              "</table>"
            ]
          },
          "metadata": {},
          "execution_count": 82
        }
      ]
    },
    {
      "cell_type": "code",
      "source": [
        "%%sql\n",
        "\n",
        "SELECT user_id,\n",
        "       SUM(diff) + 1 AS amount_of_sessions\n",
        "FROM(\n",
        "    SELECT user_id,\n",
        "        IIF(time - LAG(time) OVER(PARTITION BY user_id ORDER BY user_id) > 30, 1, 0) AS diff\n",
        "    FROM logs\n",
        "    ORDER BY user_id) as 'total'\n",
        "GROUP BY user_id\n",
        "ORDER BY user_id;"
      ],
      "metadata": {
        "colab": {
          "base_uri": "https://localhost:8080/",
          "height": 116
        },
        "id": "rVNm-U9k23RZ",
        "outputId": "ba81e8d1-0b4d-4fa3-c9ec-e1a873a8c58e"
      },
      "execution_count": 96,
      "outputs": [
        {
          "output_type": "stream",
          "name": "stdout",
          "text": [
            " * sqlite://\n",
            "Done.\n"
          ]
        },
        {
          "output_type": "execute_result",
          "data": {
            "text/plain": [
              "[('u1', 3), ('u2', 1)]"
            ],
            "text/html": [
              "<table>\n",
              "    <thead>\n",
              "        <tr>\n",
              "            <th>user_id</th>\n",
              "            <th>amount_of_sessions</th>\n",
              "        </tr>\n",
              "    </thead>\n",
              "    <tbody>\n",
              "        <tr>\n",
              "            <td>u1</td>\n",
              "            <td>3</td>\n",
              "        </tr>\n",
              "        <tr>\n",
              "            <td>u2</td>\n",
              "            <td>1</td>\n",
              "        </tr>\n",
              "    </tbody>\n",
              "</table>"
            ]
          },
          "metadata": {},
          "execution_count": 96
        }
      ]
    }
  ]
}